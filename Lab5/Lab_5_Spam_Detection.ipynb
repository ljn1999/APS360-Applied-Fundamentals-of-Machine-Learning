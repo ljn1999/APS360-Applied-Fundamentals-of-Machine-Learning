{
  "nbformat": 4,
  "nbformat_minor": 0,
  "metadata": {
    "colab": {
      "name": "Lab_5_Spam_Detection.ipynb",
      "provenance": [],
      "collapsed_sections": [],
      "include_colab_link": true
    },
    "kernelspec": {
      "display_name": "Python 3",
      "language": "python",
      "name": "python3"
    },
    "language_info": {
      "codemirror_mode": {
        "name": "ipython",
        "version": 3
      },
      "file_extension": ".py",
      "mimetype": "text/x-python",
      "name": "python",
      "nbconvert_exporter": "python",
      "pygments_lexer": "ipython3",
      "version": "3.7.4"
    }
  },
  "cells": [
    {
      "cell_type": "markdown",
      "metadata": {
        "id": "view-in-github",
        "colab_type": "text"
      },
      "source": [
        "<a href=\"https://colab.research.google.com/github/ljn1999/APS360-Applied-Fundamentals-of-Machine-Learning/blob/master/Lab5/Lab_5_Spam_Detection.ipynb\" target=\"_parent\"><img src=\"https://colab.research.google.com/assets/colab-badge.svg\" alt=\"Open In Colab\"/></a>"
      ]
    },
    {
      "cell_type": "markdown",
      "metadata": {
        "colab_type": "text",
        "id": "_bphECiUa9zw"
      },
      "source": [
        "# Lab 5: Spam Detection\n",
        "\n",
        "**Deadline**: Thursday, March 12, 11:59pm\n",
        "\n",
        "**Late Penalty**: There is a penalty-free grace period of one hour past the deadline. Any work that is submitted between 1 hour and 24 hours past the deadline will receive a 20% grade deduction. No other late work is accepted. Quercus submission time will be used, not your local computer time. You can submit your labs as many times as you want before the deadline, so please submit often and early.\n",
        "\n",
        "**TA**: Karthik Bhaskar \n",
        "\n",
        "In this assignment, we will build a recurrent neural network to classify a SMS text message\n",
        "as \"spam\" or \"not spam\". In the process, you will\n",
        "    \n",
        "1. Clean and process text data for machine learning.\n",
        "2. Understand and implement a character-level recurrent neural network.\n",
        "3. Use torchtext to build recurrent neural network models.\n",
        "4. Understand batching for a recurrent neural network, and use torchtext to implement RNN batching.\n",
        "\n",
        "### What to submit\n",
        "\n",
        "Submit a PDF file containing all your code, outputs, and write-up. You can produce a PDF of your Google Colab file by going to File > Print and then save as PDF. The Colab instructions have more information (.html files are also acceptable).\n",
        "\n",
        "Do not submit any other files produced by your code.\n",
        "\n",
        "Include a link to your colab file in your submission."
      ]
    },
    {
      "cell_type": "markdown",
      "metadata": {
        "colab_type": "text",
        "id": "rWiUqJJTa9z6"
      },
      "source": [
        "## Colab Link\n",
        "\n",
        "Include a link to your Colab file here. If you would like the TA to look at your\n",
        "Colab file in case your solutions are cut off, **please make sure that your Colab\n",
        "file is publicly accessible at the time of submission**.\n",
        "\n",
        "Colab Link: https://colab.research.google.com/drive/1WLH-Ihyb_2fQ8vLXLC1w9jNX5m5Lyl3C#scrollTo=rWiUqJJTa9z6"
      ]
    },
    {
      "cell_type": "code",
      "metadata": {
        "colab_type": "code",
        "id": "HgfNOUaPa9z8",
        "colab": {}
      },
      "source": [
        "import torch\n",
        "import torch.nn as nn\n",
        "import torch.nn.functional as F\n",
        "import torch.optim as optim\n",
        "import numpy as np\n",
        "import matplotlib.pyplot as plt"
      ],
      "execution_count": null,
      "outputs": []
    },
    {
      "cell_type": "markdown",
      "metadata": {
        "colab_type": "text",
        "id": "M0jLI9LBa90C"
      },
      "source": [
        "## Part 1. Data Cleaning [15 pt]\n",
        "\n",
        "We will be using the \"SMS Spam Collection Data Set\" available at http://archive.ics.uci.edu/ml/datasets/SMS+Spam+Collection\n",
        "\n",
        "There is a link to download the \"Data Folder\" at the very top of the webpage. Download the zip file, unzip it, and upload the file `SMSSpamCollection` to Colab.    "
      ]
    },
    {
      "cell_type": "markdown",
      "metadata": {
        "colab_type": "text",
        "id": "sSuF7C_Ga90E"
      },
      "source": [
        "### Part (a) [2 pt]\n",
        "\n",
        "Open up the file in Python, and print out one example of a spam SMS, and one example of a non-spam SMS.\n",
        "\n",
        "What is the label value for a spam message, and what is the label value for a non-spam message?"
      ]
    },
    {
      "cell_type": "code",
      "metadata": {
        "colab_type": "code",
        "id": "I_IfXHeTa90F",
        "colab": {
          "base_uri": "https://localhost:8080/",
          "height": 139
        },
        "outputId": "e96142f3-0e80-4d17-9de1-76ddc2189947"
      },
      "source": [
        "print_ham = True\n",
        "for line in open('SMSSpamCollection'):\n",
        "    if line.split()[0] == \"ham\" and print_ham:\n",
        "      print(\"Non-spam example: \", line)\n",
        "      print(\"Non-spam label is: \", line.split()[0])\n",
        "      print_ham = False\n",
        "    elif line.split()[0] == \"spam\":\n",
        "      print(\"Spam example: \", line)\n",
        "      print(\"Spam label is: \", line.split()[0])\n",
        "      break"
      ],
      "execution_count": null,
      "outputs": [
        {
          "output_type": "stream",
          "text": [
            "Non-spam example:  ham\tGo until jurong point, crazy.. Available only in bugis n great world la e buffet... Cine there got amore wat...\n",
            "\n",
            "Non-spam label is:  ham\n",
            "Spam example:  spam\tFree entry in 2 a wkly comp to win FA Cup final tkts 21st May 2005. Text FA to 87121 to receive entry question(std txt rate)T&C's apply 08452810075over18's\n",
            "\n",
            "Spam label is:  spam\n"
          ],
          "name": "stdout"
        }
      ]
    },
    {
      "cell_type": "markdown",
      "metadata": {
        "colab_type": "text",
        "id": "AukA6vMVa90d"
      },
      "source": [
        "### Part (b) [1 pt]\n",
        "\n",
        "How many spam messages are there in the data set?\n",
        "How many non-spam messages are there in the data set?\n"
      ]
    },
    {
      "cell_type": "code",
      "metadata": {
        "colab_type": "code",
        "id": "LgsqyemVa90e",
        "colab": {
          "base_uri": "https://localhost:8080/",
          "height": 51
        },
        "outputId": "d8048cca-6ce7-4f72-d916-85466991f717"
      },
      "source": [
        "count_spam = 0\n",
        "count_ham = 0\n",
        "for line in open('SMSSpamCollection'):\n",
        "    if line.split()[0] == \"spam\":\n",
        "      count_spam = count_spam+1\n",
        "    else:\n",
        "      count_ham = count_ham+1\n",
        "\n",
        "print(\"count for spam messages:\", count_spam)\n",
        "print(\"count for non-spam messages:\", count_ham)"
      ],
      "execution_count": null,
      "outputs": [
        {
          "output_type": "stream",
          "text": [
            "count for spam messages: 747\n",
            "count for non-spam messages: 4827\n"
          ],
          "name": "stdout"
        }
      ]
    },
    {
      "cell_type": "markdown",
      "metadata": {
        "colab_type": "text",
        "id": "d1WXxVt6a90h"
      },
      "source": [
        "### Part (c) [4 pt]\n",
        "\n",
        "We will be using the package `torchtext` to load, process, and batch the data.\n",
        "A tutorial to torchtext is available below. This tutorial uses the same\n",
        "Sentiment140 data set that we explored during lecture.\n",
        "\n",
        "https://medium.com/@sonicboom8/sentiment-analysis-torchtext-55fb57b1fab8\n",
        "\n",
        "Unlike what we did during lecture, we will be building a **character level RNN**.\n",
        "That is, we will treat each **character** as a token in our sequence,\n",
        "rather than each **word**.\n",
        "\n",
        "Identify two advantage and two disadvantage of modelling SMS text\n",
        "messages as a sequence of characters rather than a sequence of words."
      ]
    },
    {
      "cell_type": "code",
      "metadata": {
        "colab_type": "code",
        "id": "Mhnz8Nk-a90i",
        "colab": {}
      },
      "source": [
        "# advantage: the vocabulary is much smaller, require less memory, and have faster inference. \n",
        "#            Can take mis-spelling into consideration.\n",
        "# disadvantage: more tokens for one data sample, requires bigger hidden layer, thus more complex\n",
        "#               need to learn spelling in addition to syntax, semantics.\n",
        "#               The accuracy is probably lower than word-based problem."
      ],
      "execution_count": null,
      "outputs": []
    },
    {
      "cell_type": "markdown",
      "metadata": {
        "colab_type": "text",
        "id": "ie_D0bv9a90k"
      },
      "source": [
        "### Part (d) [1 pt]\n",
        "\n",
        "We will be loading our data set using `torchtext.data.TabularDataset`. The\n",
        "constructor will read directly from the `SMSSpamCollection` file. \n",
        "\n",
        "For the data file to be read successfuly, we\n",
        "need to specify the **fields** (columns) in the file. \n",
        "In our case, the dataset has two fields: \n",
        "\n",
        "- a text field containing the sms messages,\n",
        "- a label field which will be converted into a binary label.\n",
        "\n",
        "Split the dataset into `train`, `valid`, and `test`. Use a 60-20-20 split.\n",
        "You may find this torchtext API page helpful:\n",
        "https://torchtext.readthedocs.io/en/latest/data.html#dataset\n",
        "\n",
        "Hint: There is a `Dataset` method that can perform the random split for you."
      ]
    },
    {
      "cell_type": "code",
      "metadata": {
        "colab_type": "code",
        "id": "P_Y6Puz9a90l",
        "colab": {
          "base_uri": "https://localhost:8080/",
          "height": 102
        },
        "outputId": "37bb42fa-1c58-433d-f137-09a51c0a65c8"
      },
      "source": [
        "import torchtext\n",
        "\n",
        "text_field = torchtext.data.Field(sequential=True,      # text sequence\n",
        "                                  tokenize=lambda x: x, # because are building a character-RNN\n",
        "                                  include_lengths=True, # to track the length of sequences, for batching\n",
        "                                  batch_first=True,\n",
        "                                  use_vocab=True)       # to turn each character into an integer index\n",
        "label_field = torchtext.data.Field(sequential=False,    # not a sequence\n",
        "                                   use_vocab=False,     # don't need to track vocabulary\n",
        "                                   is_target=True,      \n",
        "                                   batch_first=True,\n",
        "                                   preprocessing=lambda x: int(x == 'spam')) # convert text to 0 and 1\n",
        "\n",
        "fields = [('label', label_field), ('sms', text_field)]\n",
        "dataset = torchtext.data.TabularDataset(\"SMSSpamCollection\", # name of the file\n",
        "                                        \"tsv\",               # fields are separated by a tab\n",
        "                                        fields)\n",
        "\n",
        "print(dataset[0].sms)\n",
        "print(dataset[0].label)\n",
        "train, valid, test = dataset.split([0.6, 0.2, 0.2], True) # reshuffle = True\n",
        "print(len(train))\n",
        "print(len(valid))\n",
        "print(len(test))"
      ],
      "execution_count": null,
      "outputs": [
        {
          "output_type": "stream",
          "text": [
            "Go until jurong point, crazy.. Available only in bugis n great world la e buffet... Cine there got amore wat...\n",
            "0\n",
            "3343\n",
            "1115\n",
            "1114\n"
          ],
          "name": "stdout"
        }
      ]
    },
    {
      "cell_type": "markdown",
      "metadata": {
        "colab_type": "text",
        "id": "v6nP0Ks_a90o"
      },
      "source": [
        "### Part (e) [2 pt]\n",
        "\n",
        "You saw in part (b) that there are many more non-spam messages than spam messages.\n",
        "This **imbalance** in our training data will be problematic for training.\n",
        "We can fix this disparity by duplicating non-spam messages in the training set,\n",
        "so that the training set is roughly **balanced**.\n",
        "\n",
        "Explain why having a balanced training set is helpful for training our neural network.\n",
        "\n",
        "Note: if you are not sure, try removing the below code and train your mode."
      ]
    },
    {
      "cell_type": "code",
      "metadata": {
        "colab_type": "code",
        "id": "FWvx9_rka90p",
        "colab": {
          "base_uri": "https://localhost:8080/",
          "height": 34
        },
        "outputId": "3d109a50-2538-482e-9861-430c3772fa60"
      },
      "source": [
        "# save the original training examples\n",
        "old_train_examples = train.examples\n",
        "# get all the spam messages in `train`\n",
        "train_spam = []\n",
        "for item in train.examples:\n",
        "    if item.label == 1:\n",
        "        train_spam.append(item)\n",
        "# duplicate each spam message 6 more times\n",
        "train.examples = old_train_examples + train_spam * 6\n",
        "\n",
        "# the reason is that: to make the probability of a spam and a ham appears to be \n",
        "# the same. If we don't duplicate the spam examples, and if our model classify\n",
        "# all emails to be non-spam, we would get an accuracy of 0.866, while the model\n",
        "# is actually very bad.\n",
        "print(len(train.examples))"
      ],
      "execution_count": null,
      "outputs": [
        {
          "output_type": "stream",
          "text": [
            "6031\n"
          ],
          "name": "stdout"
        }
      ]
    },
    {
      "cell_type": "markdown",
      "metadata": {
        "colab_type": "text",
        "id": "j7eUmBEva90r"
      },
      "source": [
        "### Part (f) [1 pt]\n",
        "\n",
        "We need to build the vocabulary on the training data by running the below code.\n",
        "This finds all the possible character tokens in the training set.\n",
        "\n",
        "Explain what the variables `text_field.vocab.stoi` and `text_field.vocab.itos` represent."
      ]
    },
    {
      "cell_type": "code",
      "metadata": {
        "colab_type": "code",
        "id": "8CQM8flKa90s",
        "colab": {
          "base_uri": "https://localhost:8080/",
          "height": 71
        },
        "outputId": "2cdcd67a-300b-4b03-dcb2-2f58ce8380af"
      },
      "source": [
        "text_field.build_vocab(train)\n",
        "print(text_field.vocab.stoi)\n",
        "print(text_field.vocab.itos)\n",
        "#text_field.vocab.stoi is a collections.defaultdict instance mapping token strings to numerical identifiers. That is, mapping every character to a number.\n",
        "#text_field.vocab.itos is a list of token strings indexed by their numerical identifiers. That is, the list of characters in stoi with the same order."
      ],
      "execution_count": null,
      "outputs": [
        {
          "output_type": "stream",
          "text": [
            "defaultdict(<function _default_unk_index at 0x7ff10655f9d8>, {'<unk>': 0, '<pad>': 1, ' ': 2, 'e': 3, 'o': 4, 't': 5, 'a': 6, 'n': 7, 'r': 8, 'i': 9, 's': 10, 'l': 11, 'u': 12, 'h': 13, 'd': 14, '0': 15, '.': 16, 'c': 17, 'm': 18, 'y': 19, 'w': 20, 'p': 21, 'g': 22, '1': 23, 'f': 24, '2': 25, 'b': 26, '8': 27, 'k': 28, 'T': 29, 'v': 30, '5': 31, 'E': 32, 'S': 33, 'C': 34, 'I': 35, '7': 36, 'O': 37, 'x': 38, '4': 39, 'A': 40, '6': 41, 'N': 42, '3': 43, 'R': 44, '!': 45, ',': 46, '9': 47, 'W': 48, 'P': 49, 'M': 50, 'U': 51, 'L': 52, 'H': 53, 'D': 54, '?': 55, '/': 56, \"'\": 57, 'G': 58, 'Y': 59, 'B': 60, 'F': 61, '£': 62, '-': 63, ':': 64, '&': 65, 'z': 66, 'X': 67, 'V': 68, 'K': 69, 'j': 70, ')': 71, 'J': 72, ';': 73, '+': 74, '*': 75, '(': 76, '\"': 77, 'q': 78, 'Q': 79, '#': 80, '>': 81, '=': 82, 'Z': 83, '@': 84, 'ü': 85, '<': 86, 'Ü': 87, '\\x92': 88, '$': 89, '|': 90, '‘': 91, '_': 92, '[': 93, ']': 94, '%': 95, '’': 96, '\\x93': 97, 'ú': 98, '“': 99, '…': 100, '–': 101, '\\x94': 102, 'é': 103, '\\t': 104, '\\n': 105, '\\\\': 106, '\\x96': 107, '^': 108, '~': 109, '\\x91': 110, 'É': 111, 'è': 112, 'ì': 113, '┾': 114, '〨': 115, '鈥': 116})\n",
            "['<unk>', '<pad>', ' ', 'e', 'o', 't', 'a', 'n', 'r', 'i', 's', 'l', 'u', 'h', 'd', '0', '.', 'c', 'm', 'y', 'w', 'p', 'g', '1', 'f', '2', 'b', '8', 'k', 'T', 'v', '5', 'E', 'S', 'C', 'I', '7', 'O', 'x', '4', 'A', '6', 'N', '3', 'R', '!', ',', '9', 'W', 'P', 'M', 'U', 'L', 'H', 'D', '?', '/', \"'\", 'G', 'Y', 'B', 'F', '£', '-', ':', '&', 'z', 'X', 'V', 'K', 'j', ')', 'J', ';', '+', '*', '(', '\"', 'q', 'Q', '#', '>', '=', 'Z', '@', 'ü', '<', 'Ü', '\\x92', '$', '|', '‘', '_', '[', ']', '%', '’', '\\x93', 'ú', '“', '…', '–', '\\x94', 'é', '\\t', '\\n', '\\\\', '\\x96', '^', '~', '\\x91', 'É', 'è', 'ì', '┾', '〨', '鈥']\n"
          ],
          "name": "stdout"
        }
      ]
    },
    {
      "cell_type": "markdown",
      "metadata": {
        "colab_type": "text",
        "id": "TC8WVE8Ua90u"
      },
      "source": [
        "### Part (g) [2 pt]\n",
        "\n",
        "The tokens `<unk>` and `<pad>` were not in our SMS text messages.\n",
        "What do these two values represent?"
      ]
    },
    {
      "cell_type": "code",
      "metadata": {
        "colab_type": "code",
        "id": "y_4Er7KUa90v",
        "colab": {}
      },
      "source": [
        "# <unk> represents unknown tokens\n",
        "# <pad> represents padding, because when the GPU or CPU processes my training \n",
        "# data in batches, all sequences in my batch should have the same length, the \n",
        "# padding will be used if the sequence of character has smaller length than\n",
        "# the maximum length."
      ],
      "execution_count": null,
      "outputs": []
    },
    {
      "cell_type": "markdown",
      "metadata": {
        "colab_type": "text",
        "id": "Ff5CNk7Qa90y"
      },
      "source": [
        "### Part (h) [2 pt]\n",
        "\n",
        "Since text sequences are of variable length, `torchtext` provides a `BucketIterator` data loader,\n",
        "which batches similar length sequences together. The iterator also provides functionalities to\n",
        "pad sequences automatically.\n",
        "\n",
        "Take a look at 10 batches in `train_iter`. What is the maximum length of the\n",
        "input sequence in each batch? How many `<pad>` tokens are used in each of the 10\n",
        "batches?"
      ]
    },
    {
      "cell_type": "code",
      "metadata": {
        "colab_type": "code",
        "id": "V8N8qLWOa90y",
        "colab": {}
      },
      "source": [
        "train_iter = torchtext.data.BucketIterator(train,\n",
        "                                           batch_size=32,\n",
        "                                           sort_key=lambda x: len(x.sms), # to minimize padding\n",
        "                                           sort_within_batch=True,        # sort within each batch\n",
        "                                           repeat=False)                  # repeat the iterator for many epochs"
      ],
      "execution_count": null,
      "outputs": []
    },
    {
      "cell_type": "code",
      "metadata": {
        "colab_type": "code",
        "id": "Qwz-rOaha902",
        "colab": {
          "base_uri": "https://localhost:8080/",
          "height": 357
        },
        "outputId": "f0b955f5-f009-41e8-92e2-d618cdffb64d"
      },
      "source": [
        "count = 1\n",
        "for batch in train_iter:\n",
        "    if count>10:\n",
        "      break\n",
        "    else:\n",
        "      print(\"Batch number:\", count, \"max length is:\", int(batch.sms[1][0]))\n",
        "      sum = 0\n",
        "      for message in range(0, len(batch.sms[1])):\n",
        "        sum = sum + batch.sms[1][0] - batch.sms[1][message]\n",
        "      print(\"Batch number:\", count, \"number of <pad> is:\", int(sum))\n",
        "      count = count+1\n",
        "\n",
        "# inside batch.sms, there are two elements, batch.sms[0] contains 32 after-padding\n",
        "# tensors, all with the same length. Batch.sms[1] contains 32 elements in decending \n",
        "# order and each of them represents the actual length of each message. Therefore, \n",
        "# the first element in batch.sms[1] is the max length, and the sum of max length \n",
        "# - each actual length is the sum of paddings.  "
      ],
      "execution_count": null,
      "outputs": [
        {
          "output_type": "stream",
          "text": [
            "Batch number: 1 max length is: 46\n",
            "Batch number: 1 number of <pad> is: 24\n",
            "Batch number: 2 max length is: 90\n",
            "Batch number: 2 number of <pad> is: 33\n",
            "Batch number: 3 max length is: 72\n",
            "Batch number: 3 number of <pad> is: 48\n",
            "Batch number: 4 max length is: 22\n",
            "Batch number: 4 number of <pad> is: 0\n",
            "Batch number: 5 max length is: 106\n",
            "Batch number: 5 number of <pad> is: 37\n",
            "Batch number: 6 max length is: 24\n",
            "Batch number: 6 number of <pad> is: 1\n",
            "Batch number: 7 max length is: 114\n",
            "Batch number: 7 number of <pad> is: 36\n",
            "Batch number: 8 max length is: 22\n",
            "Batch number: 8 number of <pad> is: 139\n",
            "Batch number: 9 max length is: 126\n",
            "Batch number: 9 number of <pad> is: 24\n",
            "Batch number: 10 max length is: 33\n",
            "Batch number: 10 number of <pad> is: 14\n"
          ],
          "name": "stdout"
        }
      ]
    },
    {
      "cell_type": "markdown",
      "metadata": {
        "colab_type": "text",
        "id": "y7HnqP6_a904"
      },
      "source": [
        "## Part 2. Model Building [8 pt]\n",
        "\n",
        "Build a recurrent neural network model, using an architecture of your choosing. \n",
        "Use the one-hot embedding of each character as input to your recurrent network.\n",
        "Use one or more fully-connected layers to make the prediction based on your\n",
        "recurrent network output.\n",
        "\n",
        "Instead of using the RNN output value for the final token, another often used\n",
        "strategy is to max-pool over the entire output array. That is, instead of calling\n",
        "something like:\n",
        "\n",
        "```\n",
        "out, _ = self.rnn(x)\n",
        "self.fc(out[:, -1, :])\n",
        "```\n",
        "\n",
        "where `self.rnn` is an `nn.RNN`, `nn.GRU`, or `nn.LSTM` module, and `self.fc` is a \n",
        "fully-connected \n",
        "layer, we use:\n",
        "\n",
        "```\n",
        "out, _ = self.rnn(x)\n",
        "self.fc(torch.max(out, dim=1)[0])\n",
        "```\n",
        "\n",
        "This works reasonably in practice. An even better alternative is to concatenate the\n",
        "max-pooling and average-pooling of the RNN outputs:\n",
        "\n",
        "```\n",
        "out, _ = self.rnn(x)\n",
        "out = torch.cat([torch.max(out, dim=1)[0], \n",
        "                 torch.mean(out, dim=1)], dim=1)\n",
        "self.fc(out)\n",
        "```\n",
        "\n",
        "We encourage you to try out all these options. The way you pool the RNN outputs\n",
        "is one of the \"hyperparameters\" that you can choose to tune later on."
      ]
    },
    {
      "cell_type": "code",
      "metadata": {
        "colab_type": "code",
        "id": "jHl1p_Wwa905",
        "colab": {
          "base_uri": "https://localhost:8080/",
          "height": 136
        },
        "outputId": "d6e0b3af-c9d0-47b7-e04d-0e7f5b12e3e0"
      },
      "source": [
        "# You might find this code helpful for obtaining\n",
        "# PyTorch one-hot vectors.\n",
        "\n",
        "ident = torch.eye(10)\n",
        "print(ident[0]) # one-hot vector\n",
        "print(ident[1]) # one-hot vector\n",
        "x = torch.tensor([[1, 2], [3, 4]])\n",
        "print(ident[x]) # one-hot vectors"
      ],
      "execution_count": null,
      "outputs": [
        {
          "output_type": "stream",
          "text": [
            "tensor([1., 0., 0., 0., 0., 0., 0., 0., 0., 0.])\n",
            "tensor([0., 1., 0., 0., 0., 0., 0., 0., 0., 0.])\n",
            "tensor([[[0., 1., 0., 0., 0., 0., 0., 0., 0., 0.],\n",
            "         [0., 0., 1., 0., 0., 0., 0., 0., 0., 0.]],\n",
            "\n",
            "        [[0., 0., 0., 1., 0., 0., 0., 0., 0., 0.],\n",
            "         [0., 0., 0., 0., 1., 0., 0., 0., 0., 0.]]])\n"
          ],
          "name": "stdout"
        }
      ]
    },
    {
      "cell_type": "code",
      "metadata": {
        "id": "hU2XbE8hEY3p",
        "colab_type": "code",
        "colab": {}
      },
      "source": [
        "input_size = len(text_field.vocab.itos)"
      ],
      "execution_count": null,
      "outputs": []
    },
    {
      "cell_type": "code",
      "metadata": {
        "colab_type": "code",
        "id": "4LTQ7zFka909",
        "colab": {}
      },
      "source": [
        "class RNN(nn.Module):\n",
        "    def __init__(self, input_size, hidden_size, num_classes):\n",
        "        self.name = \"RNN\"\n",
        "        super(RNN, self).__init__()\n",
        "        self.emb = torch.eye(input_size)\n",
        "        self.hidden_size = hidden_size\n",
        "        self.rnn = nn.RNN(input_size, hidden_size, batch_first=True)\n",
        "        self.fc = nn.Linear(hidden_size, num_classes)\n",
        "    \n",
        "    def forward(self, x):\n",
        "        # Look up the embedding\n",
        "        x = self.emb[x]\n",
        "        # Set an initial hidden state\n",
        "        h0 = torch.zeros(1, x.size(0), self.hidden_size)\n",
        "        # Forward propagate the RNN\n",
        "        out, _ = self.rnn(x, h0)\n",
        "        # Pass the output of the last time step to the classifier\n",
        "        out = self.fc(out[:, -1, :])\n",
        "        return out"
      ],
      "execution_count": null,
      "outputs": []
    },
    {
      "cell_type": "markdown",
      "metadata": {
        "colab_type": "text",
        "id": "vKIYPl_Ba90_"
      },
      "source": [
        "## Part 3. Training [16 pt]\n",
        "\n",
        "### Part (a) [4 pt]\n",
        "\n",
        "Complete the `get_accuracy` function, which will compute the\n",
        "accuracy (rate) of your model across a dataset (e.g. validation set).\n",
        "You may modify `torchtext.data.BucketIterator` to make your computation\n",
        "faster."
      ]
    },
    {
      "cell_type": "code",
      "metadata": {
        "colab_type": "code",
        "id": "pvNfhGD6a91A",
        "colab": {}
      },
      "source": [
        "def get_accuracy(model, data, batch_size):\n",
        "    \"\"\" Compute the accuracy of the `model` across a dataset `data`\n",
        "    \n",
        "    Example usage:\n",
        "    \n",
        "    >>> model = MyRNN() # to be defined\n",
        "    >>> get_accuracy(model, valid) # the variable `valid` is from above\n",
        "    \"\"\"\n",
        "    data_loader = torchtext.data.BucketIterator(data,\n",
        "                                           batch_size=batch_size,\n",
        "                                           sort_key=lambda x: len(x.sms), # to minimize padding\n",
        "                                           sort_within_batch=True,        # sort within each batch\n",
        "                                           repeat=False)                  # repeat the iterator for many epochs\n",
        "\n",
        "    correct, total = 0, 0\n",
        "    for message, labels in data_loader:\n",
        "        output = model(message[0])\n",
        "        pred = output.max(1, keepdim=True)[1]\n",
        "        correct += pred.eq(labels.view_as(pred)).sum().item()\n",
        "        total += labels.shape[0]\n",
        "    return correct / total"
      ],
      "execution_count": null,
      "outputs": []
    },
    {
      "cell_type": "markdown",
      "metadata": {
        "colab_type": "text",
        "id": "TlxlcAC1a91C"
      },
      "source": [
        "### Part (b) [4 pt]\n",
        "\n",
        "Train your model. Plot the training curve of your final model. \n",
        "Your training curve should have the training/validation loss and\n",
        "accuracy plotted periodically.\n",
        "\n",
        "Note: Not all of your batches will have the same batch size.\n",
        "In particular, if your training set does not divide evenly by\n",
        "your batch size, there will be a batch that is smaller than\n",
        "the rest. "
      ]
    },
    {
      "cell_type": "code",
      "metadata": {
        "colab_type": "code",
        "id": "CVtf7CJCa91D",
        "colab": {}
      },
      "source": [
        "def train_rnn_network(model, train, valid, batch_size, num_epochs=5, learning_rate=1e-5):\n",
        "    criterion = nn.CrossEntropyLoss()\n",
        "    optimizer = torch.optim.Adam(model.parameters(), lr=learning_rate)\n",
        "    train_losses, valid_losses, train_acc, valid_acc = [], [], [], []\n",
        "    epochs = []\n",
        "    train_loader = torchtext.data.BucketIterator(train,\n",
        "                                           batch_size=batch_size,\n",
        "                                           sort_key=lambda x: len(x.sms), \n",
        "                                           sort_within_batch=True,        \n",
        "                                           repeat=False)     \n",
        "    valid_loader = torchtext.data.BucketIterator(valid,\n",
        "                                           batch_size=batch_size,\n",
        "                                           sort_key=lambda x: len(x.sms), \n",
        "                                           sort_within_batch=True,        \n",
        "                                           repeat=False) \n",
        "    for epoch in range(num_epochs):\n",
        "        for message, labels in train_loader:\n",
        "            optimizer.zero_grad()\n",
        "            pred = model(message[0])\n",
        "            loss = criterion(pred, labels)\n",
        "            loss.backward()\n",
        "            optimizer.step()\n",
        "        train_losses.append(float(loss))\n",
        "\n",
        "        for message, labels in valid_loader:\n",
        "            pred = model(message[0])\n",
        "            loss = criterion(pred, labels)\n",
        "        valid_losses.append(float(loss))\n",
        "\n",
        "        epochs.append(epoch)\n",
        "        train_acc.append(get_accuracy(model, train, batch_size))\n",
        "        valid_acc.append(get_accuracy(model, valid, batch_size))\n",
        "        print(\"Epoch %d; Loss %f; Train Acc %f; Val Acc %f\" % (\n",
        "              epoch+1, loss, train_acc[-1], valid_acc[-1]))\n",
        "        model_path = \"model_{0}_bs{1}_lr{2}_epoch{3}\".format(model.name, batch_size, learning_rate, epoch)\n",
        "        torch.save(model.state_dict(), model_path)\n",
        "\n",
        "    # plotting\n",
        "    plt.title(\"Training Curve\")\n",
        "    plt.plot(train_losses, label=\"Train\")\n",
        "    plt.plot(valid_losses, label=\"Validation\")\n",
        "    plt.xlabel(\"Epoch\")\n",
        "    plt.ylabel(\"Loss\")\n",
        "    plt.show()\n",
        "\n",
        "    plt.title(\"Training Curve\")\n",
        "    plt.plot(epochs, train_acc, label=\"Train\")\n",
        "    plt.plot(epochs, valid_acc, label=\"Validation\")\n",
        "    plt.xlabel(\"Epoch\")\n",
        "    plt.ylabel(\"Accuracy\")\n",
        "    plt.legend(loc='best')\n",
        "    plt.show()"
      ],
      "execution_count": null,
      "outputs": []
    },
    {
      "cell_type": "code",
      "metadata": {
        "id": "5_aciZzZEou8",
        "colab_type": "code",
        "colab": {
          "base_uri": "https://localhost:8080/",
          "height": 913
        },
        "outputId": "8f38389a-9f70-4ac1-e2fb-51dac1f5ec03"
      },
      "source": [
        "# firstly use the RNN model given in tutorial, with out = self.fc(out[:, -1, :])\n",
        "# I chose num of hidden units = 100, batch_size = 64, num_of_epoches = 20 and lr = 5e-5 (a very small lr) as a start\n",
        "model = RNN(input_size, 100, 2)   \n",
        "train_rnn_network(model, train, valid, 64, 20, 5e-5)"
      ],
      "execution_count": null,
      "outputs": [
        {
          "output_type": "stream",
          "text": [
            "Epoch 1; Loss 0.702902; Train Acc 0.551981; Val Acc 0.234081\n",
            "Epoch 2; Loss 0.692585; Train Acc 0.635881; Val Acc 0.485202\n",
            "Epoch 3; Loss 0.681833; Train Acc 0.705024; Val Acc 0.786547\n",
            "Epoch 4; Loss 0.659983; Train Acc 0.747637; Val Acc 0.820628\n",
            "Epoch 5; Loss 0.268582; Train Acc 0.609849; Val Acc 0.872646\n",
            "Epoch 6; Loss 0.416454; Train Acc 0.855082; Val Acc 0.918386\n",
            "Epoch 7; Loss 0.618589; Train Acc 0.865362; Val Acc 0.926457\n",
            "Epoch 8; Loss 0.298372; Train Acc 0.899519; Val Acc 0.892377\n",
            "Epoch 9; Loss 0.334672; Train Acc 0.904991; Val Acc 0.950673\n",
            "Epoch 10; Loss 0.324901; Train Acc 0.913116; Val Acc 0.907623\n",
            "Epoch 11; Loss 0.178074; Train Acc 0.916100; Val Acc 0.930045\n",
            "Epoch 12; Loss 0.293267; Train Acc 0.911623; Val Acc 0.946188\n",
            "Epoch 13; Loss 0.524207; Train Acc 0.900348; Val Acc 0.877130\n",
            "Epoch 14; Loss 0.117158; Train Acc 0.929697; Val Acc 0.931839\n",
            "Epoch 15; Loss 0.115630; Train Acc 0.929365; Val Acc 0.956951\n",
            "Epoch 16; Loss 0.179250; Train Acc 0.903333; Val Acc 0.956054\n",
            "Epoch 17; Loss 0.284427; Train Acc 0.922235; Val Acc 0.905830\n",
            "Epoch 18; Loss 0.125046; Train Acc 0.940640; Val Acc 0.946188\n",
            "Epoch 19; Loss 0.148367; Train Acc 0.938319; Val Acc 0.957848\n",
            "Epoch 20; Loss 0.170425; Train Acc 0.940308; Val Acc 0.957848\n"
          ],
          "name": "stdout"
        },
        {
          "output_type": "display_data",
          "data": {
            "image/png": "[encoded data removed]",
            "text/plain": [
              "<Figure size 432x288 with 1 Axes>"
            ]
          },
          "metadata": {
            "tags": []
          }
        },
        {
          "output_type": "display_data",
          "data": {
            "image/png": "[encoded data removed]",
            "text/plain": [
              "<Figure size 432x288 with 1 Axes>"
            ]
          },
          "metadata": {
            "tags": []
          }
        }
      ]
    },
    {
      "cell_type": "markdown",
      "metadata": {
        "colab_type": "text",
        "id": "fE3eRkDAa91F"
      },
      "source": [
        "### Part (c) [4 pt]\n",
        "\n",
        "Choose at least 4 hyperparameters to tune. Explain how you tuned the hyperparameters.\n",
        "You don't need to include your training curve for every model you trained.\n",
        "Instead, explain what hyperparemters you tuned, what the best validation accuracy was,\n",
        "and the reasoning behind the hyperparameter decisions you made.\n",
        "\n",
        "For this assignment, you should tune more than just your learning rate and epoch. \n",
        "Choose at least 2 hyperparameters that are unrelated to the optimizer."
      ]
    },
    {
      "cell_type": "code",
      "metadata": {
        "id": "9BGKtu1NSNf3",
        "colab_type": "code",
        "colab": {
          "base_uri": "https://localhost:8080/",
          "height": 913
        },
        "outputId": "61cb373c-5fbf-4ac7-e773-1ede08635769"
      },
      "source": [
        "# secondly I chose 200 as num of hidden units\n",
        "model = RNN(input_size, 200, 2)   \n",
        "train_rnn_network(model, train, valid, 64, 20, 5e-4)"
      ],
      "execution_count": null,
      "outputs": [
        {
          "output_type": "stream",
          "text": [
            "Epoch 1; Loss 0.370070; Train Acc 0.716797; Val Acc 0.875336\n",
            "Epoch 2; Loss 0.162075; Train Acc 0.852097; Val Acc 0.917489\n",
            "Epoch 3; Loss 0.984406; Train Acc 0.519980; Val Acc 0.134529\n",
            "Epoch 4; Loss 0.711957; Train Acc 0.756094; Val Acc 0.788341\n",
            "Epoch 5; Loss 0.727841; Train Acc 0.798209; Val Acc 0.840359\n",
            "Epoch 6; Loss 0.164832; Train Acc 0.911126; Val Acc 0.911211\n",
            "Epoch 7; Loss 0.264832; Train Acc 0.661416; Val Acc 0.611659\n",
            "Epoch 8; Loss 0.920964; Train Acc 0.605206; Val Acc 0.554260\n",
            "Epoch 9; Loss 0.188931; Train Acc 0.903996; Val Acc 0.910314\n",
            "Epoch 10; Loss 0.087165; Train Acc 0.936163; Val Acc 0.945291\n",
            "Epoch 11; Loss 0.115031; Train Acc 0.934173; Val Acc 0.947982\n",
            "Epoch 12; Loss 0.287420; Train Acc 0.943790; Val Acc 0.963229\n",
            "Epoch 13; Loss 0.304945; Train Acc 0.901840; Val Acc 0.948879\n",
            "Epoch 14; Loss 0.066525; Train Acc 0.953739; Val Acc 0.965919\n",
            "Epoch 15; Loss 0.252385; Train Acc 0.948765; Val Acc 0.939910\n",
            "Epoch 16; Loss 0.017014; Train Acc 0.933013; Val Acc 0.968610\n",
            "Epoch 17; Loss 0.470491; Train Acc 0.912452; Val Acc 0.879821\n",
            "Epoch 18; Loss 0.314376; Train Acc 0.958879; Val Acc 0.971300\n",
            "Epoch 19; Loss 0.310007; Train Acc 0.959542; Val Acc 0.955157\n",
            "Epoch 20; Loss 0.128962; Train Acc 0.952247; Val Acc 0.954260\n"
          ],
          "name": "stdout"
        },
        {
          "output_type": "display_data",
          "data": {
            "image/png": "[encoded data removed]",
            "text/plain": [
              "<Figure size 432x288 with 1 Axes>"
            ]
          },
          "metadata": {
            "tags": []
          }
        },
        {
          "output_type": "display_data",
          "data": {
            "image/png": "[encoded data removed]",
            "text/plain": [
              "<Figure size 432x288 with 1 Axes>"
            ]
          },
          "metadata": {
            "tags": []
          }
        }
      ]
    },
    {
      "cell_type": "code",
      "metadata": {
        "id": "_EhAv7NCPayA",
        "colab_type": "code",
        "colab": {}
      },
      "source": [
        "class RNN_new(nn.Module):\n",
        "    def __init__(self, input_size, hidden_size, num_classes):\n",
        "        self.name = \"RNN_new\"\n",
        "        super(RNN_new, self).__init__()\n",
        "        self.emb = torch.eye(input_size)\n",
        "        self.hidden_size = hidden_size\n",
        "        self.rnn = nn.RNN(input_size, hidden_size, batch_first=True)\n",
        "        self.fc = nn.Linear(hidden_size, num_classes)\n",
        "    \n",
        "    def forward(self, x):\n",
        "        # Look up the embedding\n",
        "        x = self.emb[x]\n",
        "        # Set an initial hidden state\n",
        "        h0 = torch.zeros(1, x.size(0), self.hidden_size)\n",
        "        # Forward propagate the RNN\n",
        "        out, _ = self.rnn(x, h0)\n",
        "        # Pass the output of the last time step to the classifier\n",
        "        out = self.fc(torch.max(out, dim=1)[0])\n",
        "        return out"
      ],
      "execution_count": null,
      "outputs": []
    },
    {
      "cell_type": "code",
      "metadata": {
        "id": "-69aoheiJxV0",
        "colab_type": "code",
        "colab": {
          "base_uri": "https://localhost:8080/",
          "height": 743
        },
        "outputId": "fc118ae9-3f72-4435-d3b7-5a40371849b5"
      },
      "source": [
        "# thirdly, I used a new RNN model with out = self.fc(torch.max(out, dim=1)[0]), which is a max pooling layer.\n",
        "# the smaller num of iteration, a smaller batch_size and the same lr can achieve a better result\n",
        "model = RNN_new(input_size, 100, 2)\n",
        "train_rnn_network(model, train, valid, 32, 10, 5e-4)"
      ],
      "execution_count": null,
      "outputs": [
        {
          "output_type": "stream",
          "text": [
            "Epoch 1; Loss 0.343279; Train Acc 0.934505; Val Acc 0.969507\n",
            "Epoch 2; Loss 0.087249; Train Acc 0.943625; Val Acc 0.970404\n",
            "Epoch 3; Loss 0.075201; Train Acc 0.958050; Val Acc 0.969507\n",
            "Epoch 4; Loss 0.171268; Train Acc 0.956558; Val Acc 0.972197\n",
            "Epoch 5; Loss 0.078077; Train Acc 0.970486; Val Acc 0.969507\n",
            "Epoch 6; Loss 0.061556; Train Acc 0.978279; Val Acc 0.968610\n",
            "Epoch 7; Loss 0.041418; Train Acc 0.979605; Val Acc 0.965919\n",
            "Epoch 8; Loss 0.102804; Train Acc 0.977616; Val Acc 0.975785\n",
            "Epoch 9; Loss 0.248150; Train Acc 0.989057; Val Acc 0.973991\n",
            "Epoch 10; Loss 0.021029; Train Acc 0.984248; Val Acc 0.979372\n"
          ],
          "name": "stdout"
        },
        {
          "output_type": "display_data",
          "data": {
            "image/png": "[encoded data removed]",
            "text/plain": [
              "<Figure size 432x288 with 1 Axes>"
            ]
          },
          "metadata": {
            "tags": []
          }
        },
        {
          "output_type": "display_data",
          "data": {
            "image/png": "[encoded data removed]",
            "text/plain": [
              "<Figure size 432x288 with 1 Axes>"
            ]
          },
          "metadata": {
            "tags": []
          }
        }
      ]
    },
    {
      "cell_type": "code",
      "metadata": {
        "id": "D4t_w-83KqW1",
        "colab_type": "code",
        "colab": {
          "base_uri": "https://localhost:8080/",
          "height": 675
        },
        "outputId": "226fab8e-1124-40f0-b09d-bf7aae391234"
      },
      "source": [
        "# fourthly, I decrease the number of iterations and increase the learning rate to accelerate\n",
        "model = RNN_new(input_size, 100, 2)   \n",
        "train_rnn_network(model, train, valid, 64, 6, 1e-3)"
      ],
      "execution_count": null,
      "outputs": [
        {
          "output_type": "stream",
          "text": [
            "Epoch 1; Loss 1.546614; Train Acc 0.548665; Val Acc 0.171300\n",
            "Epoch 2; Loss 0.244328; Train Acc 0.943293; Val Acc 0.935426\n",
            "Epoch 3; Loss 0.081553; Train Acc 0.955231; Val Acc 0.969507\n",
            "Epoch 4; Loss 0.067803; Train Acc 0.960869; Val Acc 0.973094\n",
            "Epoch 5; Loss 0.085156; Train Acc 0.963190; Val Acc 0.973094\n",
            "Epoch 6; Loss 0.058907; Train Acc 0.967833; Val Acc 0.965919\n"
          ],
          "name": "stdout"
        },
        {
          "output_type": "display_data",
          "data": {
            "image/png": "[encoded data removed]",
            "text/plain": [
              "<Figure size 432x288 with 1 Axes>"
            ]
          },
          "metadata": {
            "tags": []
          }
        },
        {
          "output_type": "display_data",
          "data": {
            "image/png": "[encoded data removed]",
            "text/plain": [
              "<Figure size 432x288 with 1 Axes>"
            ]
          },
          "metadata": {
            "tags": []
          }
        }
      ]
    },
    {
      "cell_type": "code",
      "metadata": {
        "id": "SjlxpLnvJb8V",
        "colab_type": "code",
        "colab": {
          "base_uri": "https://localhost:8080/",
          "height": 777
        },
        "outputId": "a433d5b4-fa01-4435-f84f-07a9c9935a29"
      },
      "source": [
        "# fifthly, I increased the number of hidden units and added more epoches\n",
        "# this is the best model I got during the tuning hyperparameters\n",
        "model = RNN_new(input_size, 200, 2)\n",
        "train_rnn_network(model, train, valid, 64, 12, 1e-3)"
      ],
      "execution_count": null,
      "outputs": [
        {
          "output_type": "stream",
          "text": [
            "Epoch 1; Loss 0.362756; Train Acc 0.940474; Val Acc 0.968610\n",
            "Epoch 2; Loss 0.121151; Train Acc 0.954071; Val Acc 0.976682\n",
            "Epoch 3; Loss 0.429468; Train Acc 0.954402; Val Acc 0.948879\n",
            "Epoch 4; Loss 0.210038; Train Acc 0.962693; Val Acc 0.951570\n",
            "Epoch 5; Loss 0.126962; Train Acc 0.977450; Val Acc 0.973094\n",
            "Epoch 6; Loss 0.088498; Train Acc 0.965677; Val Acc 0.975785\n",
            "Epoch 7; Loss 0.105513; Train Acc 0.980600; Val Acc 0.974888\n",
            "Epoch 8; Loss 0.023568; Train Acc 0.978113; Val Acc 0.978475\n",
            "Epoch 9; Loss 0.178455; Train Acc 0.979771; Val Acc 0.960538\n",
            "Epoch 10; Loss 0.127782; Train Acc 0.985740; Val Acc 0.980269\n",
            "Epoch 11; Loss 0.007172; Train Acc 0.991544; Val Acc 0.982960\n",
            "Epoch 12; Loss 0.028426; Train Acc 0.994031; Val Acc 0.981166\n"
          ],
          "name": "stdout"
        },
        {
          "output_type": "display_data",
          "data": {
            "image/png": "[encoded data removed]",
            "text/plain": [
              "<Figure size 432x288 with 1 Axes>"
            ]
          },
          "metadata": {
            "tags": []
          }
        },
        {
          "output_type": "display_data",
          "data": {
            "image/png": "[encoded data removed]",
            "text/plain": [
              "<Figure size 432x288 with 1 Axes>"
            ]
          },
          "metadata": {
            "tags": []
          }
        }
      ]
    },
    {
      "cell_type": "markdown",
      "metadata": {
        "colab_type": "text",
        "id": "v7DY56rKa91I"
      },
      "source": [
        "### Part (d) [2 pt]\n",
        "\n",
        "Before we deploy a machine learning model, we usually want to have a better understanding\n",
        "of how our model performs beyond its validation accuracy. An important metric to track is\n",
        "*how well our model performs in certain subsets of the data*.\n",
        "\n",
        "In particular, what is the model's error rate amongst data with negative labels?\n",
        "This is called the **false positive rate**.\n",
        "\n",
        "What about the model's error rate amongst data with positive labels?\n",
        "This is called the **false negative rate**.\n",
        "\n",
        "Report your final model's false positive and false negative rate across the\n",
        "validation set."
      ]
    },
    {
      "cell_type": "code",
      "metadata": {
        "id": "8GbeiqjyI74B",
        "colab_type": "code",
        "colab": {
          "base_uri": "https://localhost:8080/",
          "height": 51
        },
        "outputId": "6875dc1e-df71-465b-98af-d3903834529b"
      },
      "source": [
        "# Create a Dataset of only spam validation examples\n",
        "valid_spam = torchtext.data.Dataset(\n",
        "    [e for e in valid.examples if e.label == 1],\n",
        "    valid.fields)\n",
        "# Create a Dataset of only non-spam validation examples\n",
        "valid_nospam = torchtext.data.Dataset(\n",
        "    [e for e in valid.examples if e.label == 0],\n",
        "    valid.fields)\n",
        "best_model = RNN_new(input_size, 200, 2)\n",
        "best_model_path = \"model_{0}_bs{1}_lr{2}_epoch{3}\".format(\"RNN_new\", 64, 1e-3, 11)\n",
        "state = torch.load(best_model_path)\n",
        "best_model.load_state_dict(state)\n",
        "\n",
        "false_positive_rate = 1 - get_accuracy(best_model, valid_nospam, 32)\n",
        "false_negative_rate = 1 - get_accuracy(best_model, valid_spam, 32)\n",
        "\n",
        "print(\"false positive rate is:\", false_positive_rate)\n",
        "print(\"false negative rate is:\", false_negative_rate)"
      ],
      "execution_count": null,
      "outputs": [
        {
          "output_type": "stream",
          "text": [
            "false positive rate is: 0.010362694300518172\n",
            "false negative rate is: 0.07999999999999996\n"
          ],
          "name": "stdout"
        }
      ]
    },
    {
      "cell_type": "markdown",
      "metadata": {
        "colab_type": "text",
        "id": "N1iRteb3a91O"
      },
      "source": [
        "### Part (e) [2 pt]\n",
        "\n",
        "The impact of a false positive vs a false negative can be drastically different.\n",
        "If our spam detection algorithm was deployed on your phone, what is the impact\n",
        "of a false positive on the phone's user? What is the impact of a false negative?"
      ]
    },
    {
      "cell_type": "code",
      "metadata": {
        "colab_type": "code",
        "id": "hFLUOJTGa91Q",
        "colab": {}
      },
      "source": [
        "# false positive means a message is a spam but is classifies as a non-spam. The\n",
        "# impact would be just have overwhelming and annoying messages in my phone.\n",
        "# false negative means a message is a non-spam but is classified as a spam. The\n",
        "# impact would be larger, because I would probably miss some important messages, \n",
        "# such as an offer."
      ],
      "execution_count": null,
      "outputs": []
    },
    {
      "cell_type": "markdown",
      "metadata": {
        "colab_type": "text",
        "id": "Gznefulsa91V"
      },
      "source": [
        "## Part 4. Evaluation [11 pt]\n",
        "\n",
        "### Part (a) [1 pt]\n",
        "\n",
        "Report the final test accuracy of your model."
      ]
    },
    {
      "cell_type": "code",
      "metadata": {
        "id": "WmTPmZwBL8af",
        "colab_type": "code",
        "colab": {
          "base_uri": "https://localhost:8080/",
          "height": 34
        },
        "outputId": "929d92d8-34b3-43f7-aa4f-50bfbcb69cbb"
      },
      "source": [
        "best_model = RNN_new(input_size, 200, 2)\n",
        "best_model_path = \"model_{0}_bs{1}_lr{2}_epoch{3}\".format(\"RNN_new\", 64, 1e-3, 11)\n",
        "state = torch.load(best_model_path)\n",
        "best_model.load_state_dict(state)\n",
        "\n",
        "test_accuracy = get_accuracy(best_model, test, 32)\n",
        "print(\"test accuracy is:\", test_accuracy)"
      ],
      "execution_count": null,
      "outputs": [
        {
          "output_type": "stream",
          "text": [
            "test accuracy is: 0.9901256732495511\n"
          ],
          "name": "stdout"
        }
      ]
    },
    {
      "cell_type": "markdown",
      "metadata": {
        "colab_type": "text",
        "id": "6Hjmd8rca91Y"
      },
      "source": [
        "### Part (b) [3 pt]\n",
        "\n",
        "Report the false positive rate and false negative rate of your model across the test set."
      ]
    },
    {
      "cell_type": "code",
      "metadata": {
        "id": "iQaLUhBKLaRy",
        "colab_type": "code",
        "colab": {
          "base_uri": "https://localhost:8080/",
          "height": 51
        },
        "outputId": "5556ac12-291a-439f-dedf-f90fcb82aa11"
      },
      "source": [
        "# Create a Dataset of only spam test examples\n",
        "test_spam = torchtext.data.Dataset(\n",
        "    [e for e in test.examples if e.label == 1],\n",
        "    test.fields)\n",
        "# Create a Dataset of only non-spam test examples\n",
        "test_nospam = torchtext.data.Dataset(\n",
        "    [e for e in test.examples if e.label == 0],\n",
        "    test.fields)\n",
        "\n",
        "best_model = RNN_new(input_size, 200, 2)\n",
        "best_model_path = \"model_{0}_bs{1}_lr{2}_epoch{3}\".format(\"RNN_new\", 64, 1e-3, 11)\n",
        "state = torch.load(best_model_path)\n",
        "best_model.load_state_dict(state)\n",
        "\n",
        "false_positive_rate = 1 - get_accuracy(model, test_nospam, 32)\n",
        "false_negative_rate = 1 - get_accuracy(model, test_spam, 32)\n",
        "\n",
        "print(\"false positive rate for test dataset is:\", false_positive_rate)\n",
        "print(\"false negative rate for test dataset is:\", false_negative_rate)"
      ],
      "execution_count": null,
      "outputs": [
        {
          "output_type": "stream",
          "text": [
            "false positive rate for test dataset is: 0.030051813471502542\n",
            "false negative rate for test dataset is: 0.0738255033557047\n"
          ],
          "name": "stdout"
        }
      ]
    },
    {
      "cell_type": "markdown",
      "metadata": {
        "colab_type": "text",
        "id": "0jGHtQFpa91b"
      },
      "source": [
        "### Part (c) [3 pt]\n",
        "\n",
        "What is your model's prediction of the **probability** that\n",
        "the SMS message \"machine learning is sooo cool!\" is spam?\n",
        "\n",
        "Hint: To begin, use `text_field.vocab.stoi` to look up the index\n",
        "of each character in the vocabulary."
      ]
    },
    {
      "cell_type": "code",
      "metadata": {
        "id": "PbtYEi3SNBXu",
        "colab_type": "code",
        "colab": {
          "base_uri": "https://localhost:8080/",
          "height": 88
        },
        "outputId": "ade603e3-62af-4844-a64c-598dacefac53"
      },
      "source": [
        "best_model = RNN_new(input_size, 200, 2)\n",
        "best_model_path = \"model_{0}_bs{1}_lr{2}_epoch{3}\".format(\"RNN_new\", 64, 1e-3, 11)\n",
        "state = torch.load(best_model_path)\n",
        "best_model.load_state_dict(state)\n",
        "\n",
        "msg = \"machine learning is sooo cool!\"\n",
        "print(text_field.vocab.stoi)\n",
        "msg_list = []\n",
        "for index in range(0, len(msg)):\n",
        "    msg_list.append(text_field.vocab.stoi[msg[index]])\n",
        "print(msg_list)\n",
        "tset_message = torch.LongTensor([msg_list])\n",
        "pred = best_model(tset_message)\n",
        "a = pred[0][1]\n",
        "prob_of_spam = np.exp(float(pred[0][1])) / (np.exp(float(pred[0][0])) + np.exp(float(pred[0][1])))\n",
        "print(\"probability of the message to be spam is:\", prob_of_spam)"
      ],
      "execution_count": null,
      "outputs": [
        {
          "output_type": "stream",
          "text": [
            "defaultdict(<function _default_unk_index at 0x7fca6f85e9d8>, {'<unk>': 0, '<pad>': 1, ' ': 2, 'e': 3, 'o': 4, 't': 5, 'a': 6, 'n': 7, 'r': 8, 'i': 9, 's': 10, 'l': 11, 'u': 12, 'h': 13, '0': 14, 'd': 15, '.': 16, 'c': 17, 'm': 18, 'y': 19, 'w': 20, 'p': 21, 'g': 22, 'f': 23, '1': 24, 'b': 25, '2': 26, 'T': 27, '8': 28, 'k': 29, 'E': 30, 'v': 31, '5': 32, 'S': 33, 'C': 34, 'O': 35, 'I': 36, '4': 37, 'N': 38, 'x': 39, '7': 40, '3': 41, 'A': 42, '6': 43, '!': 44, ',': 45, 'R': 46, '9': 47, 'P': 48, 'M': 49, 'U': 50, 'W': 51, 'L': 52, 'H': 53, 'D': 54, 'B': 55, 'F': 56, 'Y': 57, 'G': 58, '/': 59, \"'\": 60, '?': 61, '£': 62, '-': 63, '&': 64, ':': 65, 'X': 66, 'V': 67, 'z': 68, 'j': 69, '*': 70, 'K': 71, ')': 72, 'J': 73, ';': 74, '+': 75, 'q': 76, '(': 77, 'Q': 78, '\"': 79, '#': 80, '@': 81, '=': 82, '>': 83, 'Z': 84, 'ü': 85, '$': 86, 'Ü': 87, '|': 88, '_': 89, '\\x92': 90, '<': 91, '%': 92, '‘': 93, '[': 94, ']': 95, '\\x93': 96, '’': 97, '…': 98, 'ú': 99, '–': 100, '~': 101, '\\t': 102, '\\n': 103, '\\x91': 104, '\\x94': 105, '\\x96': 106, '\\\\': 107, '^': 108, 'è': 109, 'ì': 110, '—': 111, '┾': 112, '〨': 113, '鈥': 114, '»': 0, '“': 0, '¡': 0, 'é': 0, 'É': 0})\n",
            "[18, 6, 17, 13, 9, 7, 3, 2, 11, 3, 6, 8, 7, 9, 7, 22, 2, 9, 10, 2, 10, 4, 4, 4, 2, 17, 4, 4, 11, 44]\n",
            "probability of the message to be spam is: 0.047049278709741245\n"
          ],
          "name": "stdout"
        }
      ]
    },
    {
      "cell_type": "markdown",
      "metadata": {
        "colab_type": "text",
        "id": "QD1zgYJpa91f"
      },
      "source": [
        "### Part (d) [4 pt]\n",
        "\n",
        "Do you think detecting spam is an easy or difficult task?\n",
        "\n",
        "Since machine learning models are expensive to train and deploy, it is very\n",
        "important to compare our models against baseline models: a simple\n",
        "model that is easy to build and inexpensive to run that we can compare our\n",
        "recurrent neural network model against.\n",
        "\n",
        "Explain how you might build a simple baseline model. This baseline model\n",
        "can be a simple neural network (with very few weights), a hand-written algorithm,\n",
        "or any other strategy that is easy to build and test.\n",
        "\n",
        "**Do not actually build a baseline model. Instead, provide instructions on\n",
        "how to build it.**"
      ]
    },
    {
      "cell_type": "code",
      "metadata": {
        "colab_type": "code",
        "id": "LTndp-IOa91g",
        "colab": {}
      },
      "source": [
        "# It is not an easy task.\n",
        "# we can make a Bayesian classifier.\n",
        "# firstly, we should get the count of occurances of all the words in spam \n",
        "# message set and ham message set respectively. Then, calculate the occurance\n",
        "# prob of each word in both sets. Let pd be occurance of word d in spam and \n",
        "# wd be occurance of word in ham. Using Laplace smoothing\n",
        "# pd = (# occurance in spam bag + 1) / (# of total words in spam bag) + (# of total vocabulary)\n",
        "# wd = (# occurance in ham bag + 1) / (# of total words in ham bag) + (# of total vocabulary)\n",
        "# then we can compare P1 and P2\n",
        "# where P1 = PI(pd**(# of occurance of word d in test message)) * (prior prob of a spam occurs) (Note: PI is the accumulated multiplication over all words in vocabulary)\n",
        "# P2 = PI(wd**(# of occurance of word d in test message)) * (prior prob of a ham occurs)\n",
        "# if P1>P2, decision is spam, else, decision is ham."
      ],
      "execution_count": null,
      "outputs": []
    }
  ]
}