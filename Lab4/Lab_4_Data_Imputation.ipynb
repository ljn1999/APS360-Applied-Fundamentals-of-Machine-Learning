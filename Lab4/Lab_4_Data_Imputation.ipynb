{
  "nbformat": 4,
  "nbformat_minor": 0,
  "metadata": {
    "kernelspec": {
      "display_name": "Python 3",
      "language": "python",
      "name": "python3"
    },
    "language_info": {
      "codemirror_mode": {
        "name": "ipython",
        "version": 3
      },
      "file_extension": ".py",
      "mimetype": "text/x-python",
      "name": "python",
      "nbconvert_exporter": "python",
      "pygments_lexer": "ipython3",
      "version": "3.6.7"
    },
    "colab": {
      "name": "Lab_4_Data_Imputation.ipynb",
      "provenance": [],
      "collapsed_sections": [],
      "include_colab_link": true
    }
  },
  "cells": [
    {
      "cell_type": "markdown",
      "metadata": {
        "id": "view-in-github",
        "colab_type": "text"
      },
      "source": [
        "<a href=\"https://colab.research.google.com/github/ljn1999/APS360-Applied-Fundamentals-of-Machine-Learning/blob/master/Lab4/Lab_4_Data_Imputation.ipynb\" target=\"_parent\"><img src=\"https://colab.research.google.com/assets/colab-badge.svg\" alt=\"Open In Colab\"/></a>"
      ]
    },
    {
      "cell_type": "markdown",
      "metadata": {
        "id": "OhtOdxzd1ppr",
        "colab_type": "text"
      },
      "source": [
        "# Lab 4: Data Imputation using an Autoencoder\n",
        "\n",
        "**Deadline**: Thursday, March 5, 11:59pm\n",
        "\n",
        "**Late Penalty**: There is a penalty-free grace period of one hour past the deadline. Any work that is submitted between 1 hour and 24 hours past the deadline will receive a 20% grade deduction. No other late work is accepted. Quercus submission time will be used, not your local computer time. You can submit your labs as many times as you want before the deadline, so please submit often and early.\n",
        "\n",
        "**TA**: Chris Lucasius\n",
        "\n",
        "In this lab, you will build and train an autoencoder to impute (or \"fill in\") missing data. \n",
        "\n",
        "We will be using the\n",
        "Adult Data Set provided by the UCI Machine Learning Repository [1], available \n",
        "at https://archive.ics.uci.edu/ml/datasets/adult.\n",
        "The data set contains census record files of adults, including their\n",
        "age, martial status, the type of work they do, and other features. \n",
        "\n",
        "Normally, people use this data set to build a supervised classification\n",
        "model to classify whether a person is a high income earner.\n",
        "We will not use the dataset for this original intended purpose.\n",
        "\n",
        "Instead, we will perform the task of imputing (or \"filling in\") missing values in the dataset. For example,\n",
        "we may be missing one person's martial status, and another person's age, and\n",
        "a third person's level of education. Our model will predict the missing features \n",
        "based on the information that we do have about each person.\n",
        "\n",
        "We will use a variation of a denoising autoencoder to solve this data imputation\n",
        "problem. Our autoencoder will be trained using inputs that have one categorical feature artificially\n",
        "removed, and the goal of the autoencoder is to correctly reconstruct all features,\n",
        "including the one removed from the input.\n",
        "\n",
        "In the process, you are expected to learn to:\n",
        "\n",
        "1. Clean and process continuous and categorical data for machine learning.\n",
        "2. Implement an autoencoder that takes continuous and categorical (one-hot) inputs.\n",
        "3. Tune the hyperparameters of an autoencoder.\n",
        "4. Use baseline models to help interpret model performance.\n",
        "\n",
        "[1] Dua, D. and Karra Taniskidou, E. (2017). UCI Machine Learning Repository [http://archive.ics.uci.edu/ml]. Irvine, CA: University of California, School of Information and Computer Science.\n",
        "\n",
        "\n",
        "### What to submit\n",
        "\n",
        "Submit a PDF file containing all your code, outputs, and write-up. You can produce a PDF of your Google Colab file by going to File > Print and then save as PDF. The Colab instructions have more information (.html files are also acceptable).\n",
        "\n",
        "Do not submit any other files produced by your code.\n",
        "\n",
        "Include a link to your colab file in your submission.\n"
      ]
    },
    {
      "cell_type": "markdown",
      "metadata": {
        "id": "zbnrp2ig1pps",
        "colab_type": "text"
      },
      "source": [
        "## Colab Link\n",
        "\n",
        "Include a link to your Colab file here. If you would like the TA to look at your\n",
        "Colab file in case your solutions are cut off, **please make sure that your Colab\n",
        "file is publicly accessible at the time of submission**.\n",
        "\n",
        "Colab Link: https://colab.research.google.com/drive/1uzJGH-UGknqfxt66TgppxJoAzfNeDaCN#scrollTo=zbnrp2ig1pps"
      ]
    },
    {
      "cell_type": "code",
      "metadata": {
        "id": "z3p8N43E1ppt",
        "colab_type": "code",
        "colab": {}
      },
      "source": [
        "import csv\n",
        "import numpy as np\n",
        "import random\n",
        "import torch\n",
        "import torch.utils.data\n",
        "import matplotlib.pyplot as plt"
      ],
      "execution_count": null,
      "outputs": []
    },
    {
      "cell_type": "markdown",
      "metadata": {
        "id": "8ROwtHcz1ppx",
        "colab_type": "text"
      },
      "source": [
        "## Part 0\n",
        "\n",
        "We will be using a package called `pandas` for this assignment. \n",
        "\n",
        "If you are using Colab, `pandas` should already be available.\n",
        "If you are using your own computer,\n",
        "installation instructions for `pandas` are available here: \n",
        "https://pandas.pydata.org/pandas-docs/stable/install.html"
      ]
    },
    {
      "cell_type": "code",
      "metadata": {
        "id": "IXQ7BP151ppz",
        "colab_type": "code",
        "colab": {}
      },
      "source": [
        "import pandas as pd"
      ],
      "execution_count": null,
      "outputs": []
    },
    {
      "cell_type": "markdown",
      "metadata": {
        "id": "hqXihb4Q1pp2",
        "colab_type": "text"
      },
      "source": [
        "# Part 1. Data Cleaning [15 pt]\n",
        "\n",
        "The adult.data file is available at `https://archive.ics.uci.edu/ml/machine-learning-databases/adult/adult.data`\n",
        "\n",
        "The function `pd.read_csv` loads the adult.data file into a pandas dataframe.\n",
        "You can read about the pandas documentation for `pd.read_csv` at\n",
        "https://pandas.pydata.org/pandas-docs/stable/reference/api/pandas.read_csv.html"
      ]
    },
    {
      "cell_type": "code",
      "metadata": {
        "id": "EOMItFKn1pp3",
        "colab_type": "code",
        "colab": {}
      },
      "source": [
        "header = ['age', 'work', 'fnlwgt', 'edu', 'yredu', 'marriage', 'occupation',\n",
        " 'relationship', 'race', 'sex', 'capgain', 'caploss', 'workhr', 'country']\n",
        "df = pd.read_csv(\n",
        "    \"https://archive.ics.uci.edu/ml/machine-learning-databases/adult/adult.data\",\n",
        "    names=header,\n",
        "    index_col=False)"
      ],
      "execution_count": null,
      "outputs": []
    },
    {
      "cell_type": "code",
      "metadata": {
        "scrolled": true,
        "id": "62Ot405q1pp5",
        "colab_type": "code",
        "colab": {
          "base_uri": "https://localhost:8080/",
          "height": 34
        },
        "outputId": "ad8dffc0-c03c-4bdb-8f35-0de2b7727a7d"
      },
      "source": [
        "df.shape # there are 32561 rows (records) in the data frame, and 14 columns (features)"
      ],
      "execution_count": null,
      "outputs": [
        {
          "output_type": "execute_result",
          "data": {
            "text/plain": [
              "(32561, 14)"
            ]
          },
          "metadata": {
            "tags": []
          },
          "execution_count": 4
        }
      ]
    },
    {
      "cell_type": "markdown",
      "metadata": {
        "id": "Tr7YG-QY1pp8",
        "colab_type": "text"
      },
      "source": [
        "### Part (a) Continuous Features [3 pt]\n",
        "\n",
        "For each of the columns `[\"age\", \"yredu\", \"capgain\", \"caploss\", \"workhr\"]`, report the minimum, maximum, and average value across the dataset. \n",
        "\n",
        "Then, normalize each of the features `[\"age\", \"yredu\", \"capgain\", \"caploss\", \"workhr\"]`\n",
        "so that their values are always between 0 and 1.\n",
        "Make sure that you are actually modifying the dataframe `df`. \n",
        "\n",
        "Like numpy arrays and torch tensors, \n",
        "pandas data frames can be sliced. For example, we can\n",
        "display the first 3 rows of the data frame (3 records) below."
      ]
    },
    {
      "cell_type": "code",
      "metadata": {
        "scrolled": false,
        "id": "9evSLsSa1pp9",
        "colab_type": "code",
        "colab": {
          "base_uri": "https://localhost:8080/",
          "height": 142
        },
        "outputId": "d9ddbaf6-bd1c-4b68-c8e0-2eb7289fcb01"
      },
      "source": [
        "df[:3] # show the first 3 records"
      ],
      "execution_count": null,
      "outputs": [
        {
          "output_type": "execute_result",
          "data": {
            "text/html": [
              "<div>\n",
              "<style scoped>\n",
              "    .dataframe tbody tr th:only-of-type {\n",
              "        vertical-align: middle;\n",
              "    }\n",
              "\n",
              "    .dataframe tbody tr th {\n",
              "        vertical-align: top;\n",
              "    }\n",
              "\n",
              "    .dataframe thead th {\n",
              "        text-align: right;\n",
              "    }\n",
              "</style>\n",
              "<table border=\"1\" class=\"dataframe\">\n",
              "  <thead>\n",
              "    <tr style=\"text-align: right;\">\n",
              "      <th></th>\n",
              "      <th>age</th>\n",
              "      <th>work</th>\n",
              "      <th>fnlwgt</th>\n",
              "      <th>edu</th>\n",
              "      <th>yredu</th>\n",
              "      <th>marriage</th>\n",
              "      <th>occupation</th>\n",
              "      <th>relationship</th>\n",
              "      <th>race</th>\n",
              "      <th>sex</th>\n",
              "      <th>capgain</th>\n",
              "      <th>caploss</th>\n",
              "      <th>workhr</th>\n",
              "      <th>country</th>\n",
              "    </tr>\n",
              "  </thead>\n",
              "  <tbody>\n",
              "    <tr>\n",
              "      <th>0</th>\n",
              "      <td>39</td>\n",
              "      <td>State-gov</td>\n",
              "      <td>77516</td>\n",
              "      <td>Bachelors</td>\n",
              "      <td>13</td>\n",
              "      <td>Never-married</td>\n",
              "      <td>Adm-clerical</td>\n",
              "      <td>Not-in-family</td>\n",
              "      <td>White</td>\n",
              "      <td>Male</td>\n",
              "      <td>2174</td>\n",
              "      <td>0</td>\n",
              "      <td>40</td>\n",
              "      <td>United-States</td>\n",
              "    </tr>\n",
              "    <tr>\n",
              "      <th>1</th>\n",
              "      <td>50</td>\n",
              "      <td>Self-emp-not-inc</td>\n",
              "      <td>83311</td>\n",
              "      <td>Bachelors</td>\n",
              "      <td>13</td>\n",
              "      <td>Married-civ-spouse</td>\n",
              "      <td>Exec-managerial</td>\n",
              "      <td>Husband</td>\n",
              "      <td>White</td>\n",
              "      <td>Male</td>\n",
              "      <td>0</td>\n",
              "      <td>0</td>\n",
              "      <td>13</td>\n",
              "      <td>United-States</td>\n",
              "    </tr>\n",
              "    <tr>\n",
              "      <th>2</th>\n",
              "      <td>38</td>\n",
              "      <td>Private</td>\n",
              "      <td>215646</td>\n",
              "      <td>HS-grad</td>\n",
              "      <td>9</td>\n",
              "      <td>Divorced</td>\n",
              "      <td>Handlers-cleaners</td>\n",
              "      <td>Not-in-family</td>\n",
              "      <td>White</td>\n",
              "      <td>Male</td>\n",
              "      <td>0</td>\n",
              "      <td>0</td>\n",
              "      <td>40</td>\n",
              "      <td>United-States</td>\n",
              "    </tr>\n",
              "  </tbody>\n",
              "</table>\n",
              "</div>"
            ],
            "text/plain": [
              "   age               work  fnlwgt  ... caploss  workhr         country\n",
              "0   39          State-gov   77516  ...       0      40   United-States\n",
              "1   50   Self-emp-not-inc   83311  ...       0      13   United-States\n",
              "2   38            Private  215646  ...       0      40   United-States\n",
              "\n",
              "[3 rows x 14 columns]"
            ]
          },
          "metadata": {
            "tags": []
          },
          "execution_count": 5
        }
      ]
    },
    {
      "cell_type": "markdown",
      "metadata": {
        "id": "gBOojI6W1pqA",
        "colab_type": "text"
      },
      "source": [
        "Alternatively, we can slice based on column names, \n",
        "for example `df[\"race\"]`, `df[\"hr\"]`, or even index multiple columns \n",
        "like below."
      ]
    },
    {
      "cell_type": "code",
      "metadata": {
        "id": "4v6pp73A1pqB",
        "colab_type": "code",
        "colab": {
          "base_uri": "https://localhost:8080/",
          "height": 142
        },
        "outputId": "fabb3a23-b02d-489b-a0ce-47752efded02"
      },
      "source": [
        "subdf = df[[\"age\", \"yredu\", \"capgain\", \"caploss\", \"workhr\"]]\n",
        "subdf[:3] # show the first 3 records"
      ],
      "execution_count": null,
      "outputs": [
        {
          "output_type": "execute_result",
          "data": {
            "text/html": [
              "<div>\n",
              "<style scoped>\n",
              "    .dataframe tbody tr th:only-of-type {\n",
              "        vertical-align: middle;\n",
              "    }\n",
              "\n",
              "    .dataframe tbody tr th {\n",
              "        vertical-align: top;\n",
              "    }\n",
              "\n",
              "    .dataframe thead th {\n",
              "        text-align: right;\n",
              "    }\n",
              "</style>\n",
              "<table border=\"1\" class=\"dataframe\">\n",
              "  <thead>\n",
              "    <tr style=\"text-align: right;\">\n",
              "      <th></th>\n",
              "      <th>age</th>\n",
              "      <th>yredu</th>\n",
              "      <th>capgain</th>\n",
              "      <th>caploss</th>\n",
              "      <th>workhr</th>\n",
              "    </tr>\n",
              "  </thead>\n",
              "  <tbody>\n",
              "    <tr>\n",
              "      <th>0</th>\n",
              "      <td>39</td>\n",
              "      <td>13</td>\n",
              "      <td>2174</td>\n",
              "      <td>0</td>\n",
              "      <td>40</td>\n",
              "    </tr>\n",
              "    <tr>\n",
              "      <th>1</th>\n",
              "      <td>50</td>\n",
              "      <td>13</td>\n",
              "      <td>0</td>\n",
              "      <td>0</td>\n",
              "      <td>13</td>\n",
              "    </tr>\n",
              "    <tr>\n",
              "      <th>2</th>\n",
              "      <td>38</td>\n",
              "      <td>9</td>\n",
              "      <td>0</td>\n",
              "      <td>0</td>\n",
              "      <td>40</td>\n",
              "    </tr>\n",
              "  </tbody>\n",
              "</table>\n",
              "</div>"
            ],
            "text/plain": [
              "   age  yredu  capgain  caploss  workhr\n",
              "0   39     13     2174        0      40\n",
              "1   50     13        0        0      13\n",
              "2   38      9        0        0      40"
            ]
          },
          "metadata": {
            "tags": []
          },
          "execution_count": 7
        }
      ]
    },
    {
      "cell_type": "markdown",
      "metadata": {
        "id": "2Nru2P0E1pqD",
        "colab_type": "text"
      },
      "source": [
        "Numpy works nicely with pandas, like below:"
      ]
    },
    {
      "cell_type": "code",
      "metadata": {
        "id": "JXrS6tjp1pqE",
        "colab_type": "code",
        "colab": {
          "base_uri": "https://localhost:8080/",
          "height": 34
        },
        "outputId": "062df3ca-5661-45d1-d5ed-fbc2357e4045"
      },
      "source": [
        "np.sum(subdf[\"caploss\"])"
      ],
      "execution_count": null,
      "outputs": [
        {
          "output_type": "execute_result",
          "data": {
            "text/plain": [
              "2842700"
            ]
          },
          "metadata": {
            "tags": []
          },
          "execution_count": 8
        }
      ]
    },
    {
      "cell_type": "markdown",
      "metadata": {
        "id": "Mv5mbxDM1pqH",
        "colab_type": "text"
      },
      "source": [
        "Just like numpy arrays, you can modify\n",
        "entire columns of data rather than one scalar element at a time.\n",
        "For example, the code  \n",
        "\n",
        "`df[\"age\"] = df[\"age\"] + 1` \n",
        "\n",
        "would increment everyone's age by 1."
      ]
    },
    {
      "cell_type": "code",
      "metadata": {
        "id": "k5rlWD7-1pqH",
        "colab_type": "code",
        "colab": {
          "base_uri": "https://localhost:8080/",
          "height": 102
        },
        "outputId": "872d43c6-76fc-4107-d46f-f1999f2a6453"
      },
      "source": [
        "print('max value of age:', (df['age']).max(), ' min value of age:', (df['age']).min(), ' avg value of age:', (df['age']).mean())\n",
        "print('max value of yredu:', (df['yredu']).max(), ' min value of yredu:', (df['yredu']).min(), ' avg value of yredu:', (df['yredu']).mean())\n",
        "print('max value of capgain:', (df['capgain']).max(), ' min value of capgain:', (df['capgain']).min(), ' avg value of capgain:', (df['capgain']).mean())\n",
        "print('max value of caploss:', (df['caploss']).max(), ' min value of caploss:', (df['caploss']).min(), ' avg value of caploss:', (df['caploss']).mean())\n",
        "print('max value of workhr:', (df['workhr']).max(), ' min value of workhr:', (df['workhr']).min(), ' avg value of workhr:', (df['workhr']).mean())"
      ],
      "execution_count": null,
      "outputs": [
        {
          "output_type": "stream",
          "text": [
            "max value of age: 90  min value of age: 17  avg value of age: 38.58164675532078\n",
            "max value of yredu: 16  min value of yredu: 1  avg value of yredu: 10.0806793403151\n",
            "max value of capgain: 99999  min value of capgain: 0  avg value of capgain: 1077.6488437087312\n",
            "max value of caploss: 4356  min value of caploss: 0  avg value of caploss: 87.303829734959\n",
            "max value of workhr: 99  min value of workhr: 1  avg value of workhr: 40.437455852092995\n"
          ],
          "name": "stdout"
        }
      ]
    },
    {
      "cell_type": "code",
      "metadata": {
        "id": "cSuG7RAdy8s-",
        "colab_type": "code",
        "colab": {}
      },
      "source": [
        "# normalize by (value - min) / (max - min)\n",
        "df[\"age\"] = (df[\"age\"]-(df['age']).min()) / ((df['age']).max() - (df['age']).min())\n",
        "df[\"yredu\"] = (df[\"yredu\"]-(df['yredu']).min()) / ((df['yredu']).max() - (df['yredu']).min())\n",
        "df[\"capgain\"] = (df[\"capgain\"]-(df['capgain']).min()) / ((df['capgain']).max() - (df['capgain']).min())\n",
        "df[\"caploss\"] = (df[\"caploss\"]-(df['caploss']).min()) / ((df['caploss']).max() - (df['caploss']).min())\n",
        "df[\"workhr\"] = (df[\"workhr\"]-(df['workhr']).min()) / ((df['workhr']).max() - (df['workhr']).min())"
      ],
      "execution_count": null,
      "outputs": []
    },
    {
      "cell_type": "markdown",
      "metadata": {
        "id": "qbfMly4R1pqK",
        "colab_type": "text"
      },
      "source": [
        "### Part (b) Categorical Features [1 pt]\n",
        "\n",
        "What percentage of people in our data set are male? Note that the data labels all have an unfortunate space in the beginning, e.g. \" Male\" instead of \"Male\".\n",
        "\n",
        "What percentage of people in our data set are female?"
      ]
    },
    {
      "cell_type": "code",
      "metadata": {
        "id": "DjAjcsB_1pqK",
        "colab_type": "code",
        "colab": {
          "base_uri": "https://localhost:8080/",
          "height": 34
        },
        "outputId": "b4910083-764d-4cab-9ffa-6129a1264d95"
      },
      "source": [
        "# hint: you can do something like this in pandas\n",
        "sum(df[\"sex\"] == \" Female\")\n",
        "\n",
        "# number of female in the data set is 10771\n",
        "# percentage of female = 10771/32561 = 0.33"
      ],
      "execution_count": null,
      "outputs": [
        {
          "output_type": "execute_result",
          "data": {
            "text/plain": [
              "10771"
            ]
          },
          "metadata": {
            "tags": []
          },
          "execution_count": 58
        }
      ]
    },
    {
      "cell_type": "markdown",
      "metadata": {
        "id": "eGVw7pqL1pqN",
        "colab_type": "text"
      },
      "source": [
        "### Part (c) [2 pt]\n",
        "\n",
        "Before proceeding, we will modify our data frame in a couple more ways:\n",
        "\n",
        "1. We will restrict ourselves to using a subset of the features (to simplify our autoencoder)\n",
        "2. We will remove any records (rows) already containing missing values, and store them in a second dataframe. We will only use records without missing values to train our autoencoder.\n",
        "\n",
        "Both of these steps are done for you, below.\n",
        "\n",
        "How many records contained missing features? What percentage of records were removed?"
      ]
    },
    {
      "cell_type": "code",
      "metadata": {
        "id": "z6ewPUdv1pqO",
        "colab_type": "code",
        "colab": {}
      },
      "source": [
        "contcols = [\"age\", \"yredu\", \"capgain\", \"caploss\", \"workhr\"]\n",
        "catcols = [\"work\", \"marriage\", \"occupation\", \"edu\", \"relationship\", \"sex\"]\n",
        "features = contcols + catcols\n",
        "df = df[features]"
      ],
      "execution_count": null,
      "outputs": []
    },
    {
      "cell_type": "code",
      "metadata": {
        "id": "fjdVll5a1pqQ",
        "colab_type": "code",
        "colab": {}
      },
      "source": [
        "missing = pd.concat([df[c] == \" ?\" for c in catcols], axis=1).any(axis=1)\n",
        "df_with_missing = df[missing]\n",
        "df_not_missing = df[~missing]"
      ],
      "execution_count": null,
      "outputs": []
    },
    {
      "cell_type": "code",
      "metadata": {
        "id": "VLnwVbhU2-Np",
        "colab_type": "code",
        "colab": {
          "base_uri": "https://localhost:8080/",
          "height": 51
        },
        "outputId": "a5a4a218-ee9b-4625-e76e-de5cd44e2ab9"
      },
      "source": [
        "print(len(df))\n",
        "print(len(df_with_missing))\n",
        "# 1843 records contains missing features, 1843/32561 = 5.66% are removed"
      ],
      "execution_count": null,
      "outputs": [
        {
          "output_type": "stream",
          "text": [
            "32561\n",
            "1843\n"
          ],
          "name": "stdout"
        }
      ]
    },
    {
      "cell_type": "markdown",
      "metadata": {
        "id": "XuEpndTQ1pqU",
        "colab_type": "text"
      },
      "source": [
        "### Part (d) One-Hot Encoding [1 pt]\n",
        "\n",
        "What are all the possible values of the feature \"work\" in `df_not_missing`? You may find the Python function `set` useful."
      ]
    },
    {
      "cell_type": "code",
      "metadata": {
        "id": "iKFh4owE1pqV",
        "colab_type": "code",
        "colab": {
          "base_uri": "https://localhost:8080/",
          "height": 34
        },
        "outputId": "97bb7b65-0fd8-4890-def8-1488a2c56b80"
      },
      "source": [
        "print(set(df_not_missing[\"work\"]))"
      ],
      "execution_count": null,
      "outputs": [
        {
          "output_type": "stream",
          "text": [
            "{' State-gov', ' Federal-gov', ' Private', ' Without-pay', ' Self-emp-inc', ' Self-emp-not-inc', ' Local-gov'}\n"
          ],
          "name": "stdout"
        }
      ]
    },
    {
      "cell_type": "markdown",
      "metadata": {
        "id": "COv3HaKr1pqY",
        "colab_type": "text"
      },
      "source": [
        "We will be using a one-hot encoding to represent each of the categorical variables.\n",
        "Our autoencoder will be trained using these one-hot encodings.\n",
        "\n",
        "We will use the pandas function `get_dummies` to produce one-hot encodings\n",
        "for all of the categorical variables in `df_not_missing`. "
      ]
    },
    {
      "cell_type": "code",
      "metadata": {
        "id": "eKlSYmJg1pqZ",
        "colab_type": "code",
        "colab": {}
      },
      "source": [
        "data = pd.get_dummies(df_not_missing)"
      ],
      "execution_count": null,
      "outputs": []
    },
    {
      "cell_type": "code",
      "metadata": {
        "scrolled": true,
        "id": "3y7nTZ7H1pqb",
        "colab_type": "code",
        "colab": {
          "base_uri": "https://localhost:8080/",
          "height": 230
        },
        "outputId": "0c89f34c-e584-4765-fc66-f917ff9d3072"
      },
      "source": [
        "data[:3]"
      ],
      "execution_count": null,
      "outputs": [
        {
          "output_type": "execute_result",
          "data": {
            "text/html": [
              "<div>\n",
              "<style scoped>\n",
              "    .dataframe tbody tr th:only-of-type {\n",
              "        vertical-align: middle;\n",
              "    }\n",
              "\n",
              "    .dataframe tbody tr th {\n",
              "        vertical-align: top;\n",
              "    }\n",
              "\n",
              "    .dataframe thead th {\n",
              "        text-align: right;\n",
              "    }\n",
              "</style>\n",
              "<table border=\"1\" class=\"dataframe\">\n",
              "  <thead>\n",
              "    <tr style=\"text-align: right;\">\n",
              "      <th></th>\n",
              "      <th>age</th>\n",
              "      <th>yredu</th>\n",
              "      <th>capgain</th>\n",
              "      <th>caploss</th>\n",
              "      <th>workhr</th>\n",
              "      <th>work_ Federal-gov</th>\n",
              "      <th>work_ Local-gov</th>\n",
              "      <th>work_ Private</th>\n",
              "      <th>work_ Self-emp-inc</th>\n",
              "      <th>work_ Self-emp-not-inc</th>\n",
              "      <th>work_ State-gov</th>\n",
              "      <th>work_ Without-pay</th>\n",
              "      <th>marriage_ Divorced</th>\n",
              "      <th>marriage_ Married-AF-spouse</th>\n",
              "      <th>marriage_ Married-civ-spouse</th>\n",
              "      <th>marriage_ Married-spouse-absent</th>\n",
              "      <th>marriage_ Never-married</th>\n",
              "      <th>marriage_ Separated</th>\n",
              "      <th>marriage_ Widowed</th>\n",
              "      <th>occupation_ Adm-clerical</th>\n",
              "      <th>occupation_ Armed-Forces</th>\n",
              "      <th>occupation_ Craft-repair</th>\n",
              "      <th>occupation_ Exec-managerial</th>\n",
              "      <th>occupation_ Farming-fishing</th>\n",
              "      <th>occupation_ Handlers-cleaners</th>\n",
              "      <th>occupation_ Machine-op-inspct</th>\n",
              "      <th>occupation_ Other-service</th>\n",
              "      <th>occupation_ Priv-house-serv</th>\n",
              "      <th>occupation_ Prof-specialty</th>\n",
              "      <th>occupation_ Protective-serv</th>\n",
              "      <th>occupation_ Sales</th>\n",
              "      <th>occupation_ Tech-support</th>\n",
              "      <th>occupation_ Transport-moving</th>\n",
              "      <th>edu_ 10th</th>\n",
              "      <th>edu_ 11th</th>\n",
              "      <th>edu_ 12th</th>\n",
              "      <th>edu_ 1st-4th</th>\n",
              "      <th>edu_ 5th-6th</th>\n",
              "      <th>edu_ 7th-8th</th>\n",
              "      <th>edu_ 9th</th>\n",
              "      <th>edu_ Assoc-acdm</th>\n",
              "      <th>edu_ Assoc-voc</th>\n",
              "      <th>edu_ Bachelors</th>\n",
              "      <th>edu_ Doctorate</th>\n",
              "      <th>edu_ HS-grad</th>\n",
              "      <th>edu_ Masters</th>\n",
              "      <th>edu_ Preschool</th>\n",
              "      <th>edu_ Prof-school</th>\n",
              "      <th>edu_ Some-college</th>\n",
              "      <th>relationship_ Husband</th>\n",
              "      <th>relationship_ Not-in-family</th>\n",
              "      <th>relationship_ Other-relative</th>\n",
              "      <th>relationship_ Own-child</th>\n",
              "      <th>relationship_ Unmarried</th>\n",
              "      <th>relationship_ Wife</th>\n",
              "      <th>sex_ Female</th>\n",
              "      <th>sex_ Male</th>\n",
              "    </tr>\n",
              "  </thead>\n",
              "  <tbody>\n",
              "    <tr>\n",
              "      <th>0</th>\n",
              "      <td>0.301370</td>\n",
              "      <td>0.800000</td>\n",
              "      <td>0.02174</td>\n",
              "      <td>0.0</td>\n",
              "      <td>0.397959</td>\n",
              "      <td>0</td>\n",
              "      <td>0</td>\n",
              "      <td>0</td>\n",
              "      <td>0</td>\n",
              "      <td>0</td>\n",
              "      <td>1</td>\n",
              "      <td>0</td>\n",
              "      <td>0</td>\n",
              "      <td>0</td>\n",
              "      <td>0</td>\n",
              "      <td>0</td>\n",
              "      <td>1</td>\n",
              "      <td>0</td>\n",
              "      <td>0</td>\n",
              "      <td>1</td>\n",
              "      <td>0</td>\n",
              "      <td>0</td>\n",
              "      <td>0</td>\n",
              "      <td>0</td>\n",
              "      <td>0</td>\n",
              "      <td>0</td>\n",
              "      <td>0</td>\n",
              "      <td>0</td>\n",
              "      <td>0</td>\n",
              "      <td>0</td>\n",
              "      <td>0</td>\n",
              "      <td>0</td>\n",
              "      <td>0</td>\n",
              "      <td>0</td>\n",
              "      <td>0</td>\n",
              "      <td>0</td>\n",
              "      <td>0</td>\n",
              "      <td>0</td>\n",
              "      <td>0</td>\n",
              "      <td>0</td>\n",
              "      <td>0</td>\n",
              "      <td>0</td>\n",
              "      <td>1</td>\n",
              "      <td>0</td>\n",
              "      <td>0</td>\n",
              "      <td>0</td>\n",
              "      <td>0</td>\n",
              "      <td>0</td>\n",
              "      <td>0</td>\n",
              "      <td>0</td>\n",
              "      <td>1</td>\n",
              "      <td>0</td>\n",
              "      <td>0</td>\n",
              "      <td>0</td>\n",
              "      <td>0</td>\n",
              "      <td>0</td>\n",
              "      <td>1</td>\n",
              "    </tr>\n",
              "    <tr>\n",
              "      <th>1</th>\n",
              "      <td>0.452055</td>\n",
              "      <td>0.800000</td>\n",
              "      <td>0.00000</td>\n",
              "      <td>0.0</td>\n",
              "      <td>0.122449</td>\n",
              "      <td>0</td>\n",
              "      <td>0</td>\n",
              "      <td>0</td>\n",
              "      <td>0</td>\n",
              "      <td>1</td>\n",
              "      <td>0</td>\n",
              "      <td>0</td>\n",
              "      <td>0</td>\n",
              "      <td>0</td>\n",
              "      <td>1</td>\n",
              "      <td>0</td>\n",
              "      <td>0</td>\n",
              "      <td>0</td>\n",
              "      <td>0</td>\n",
              "      <td>0</td>\n",
              "      <td>0</td>\n",
              "      <td>0</td>\n",
              "      <td>1</td>\n",
              "      <td>0</td>\n",
              "      <td>0</td>\n",
              "      <td>0</td>\n",
              "      <td>0</td>\n",
              "      <td>0</td>\n",
              "      <td>0</td>\n",
              "      <td>0</td>\n",
              "      <td>0</td>\n",
              "      <td>0</td>\n",
              "      <td>0</td>\n",
              "      <td>0</td>\n",
              "      <td>0</td>\n",
              "      <td>0</td>\n",
              "      <td>0</td>\n",
              "      <td>0</td>\n",
              "      <td>0</td>\n",
              "      <td>0</td>\n",
              "      <td>0</td>\n",
              "      <td>0</td>\n",
              "      <td>1</td>\n",
              "      <td>0</td>\n",
              "      <td>0</td>\n",
              "      <td>0</td>\n",
              "      <td>0</td>\n",
              "      <td>0</td>\n",
              "      <td>0</td>\n",
              "      <td>1</td>\n",
              "      <td>0</td>\n",
              "      <td>0</td>\n",
              "      <td>0</td>\n",
              "      <td>0</td>\n",
              "      <td>0</td>\n",
              "      <td>0</td>\n",
              "      <td>1</td>\n",
              "    </tr>\n",
              "    <tr>\n",
              "      <th>2</th>\n",
              "      <td>0.287671</td>\n",
              "      <td>0.533333</td>\n",
              "      <td>0.00000</td>\n",
              "      <td>0.0</td>\n",
              "      <td>0.397959</td>\n",
              "      <td>0</td>\n",
              "      <td>0</td>\n",
              "      <td>1</td>\n",
              "      <td>0</td>\n",
              "      <td>0</td>\n",
              "      <td>0</td>\n",
              "      <td>0</td>\n",
              "      <td>1</td>\n",
              "      <td>0</td>\n",
              "      <td>0</td>\n",
              "      <td>0</td>\n",
              "      <td>0</td>\n",
              "      <td>0</td>\n",
              "      <td>0</td>\n",
              "      <td>0</td>\n",
              "      <td>0</td>\n",
              "      <td>0</td>\n",
              "      <td>0</td>\n",
              "      <td>0</td>\n",
              "      <td>1</td>\n",
              "      <td>0</td>\n",
              "      <td>0</td>\n",
              "      <td>0</td>\n",
              "      <td>0</td>\n",
              "      <td>0</td>\n",
              "      <td>0</td>\n",
              "      <td>0</td>\n",
              "      <td>0</td>\n",
              "      <td>0</td>\n",
              "      <td>0</td>\n",
              "      <td>0</td>\n",
              "      <td>0</td>\n",
              "      <td>0</td>\n",
              "      <td>0</td>\n",
              "      <td>0</td>\n",
              "      <td>0</td>\n",
              "      <td>0</td>\n",
              "      <td>0</td>\n",
              "      <td>0</td>\n",
              "      <td>1</td>\n",
              "      <td>0</td>\n",
              "      <td>0</td>\n",
              "      <td>0</td>\n",
              "      <td>0</td>\n",
              "      <td>0</td>\n",
              "      <td>1</td>\n",
              "      <td>0</td>\n",
              "      <td>0</td>\n",
              "      <td>0</td>\n",
              "      <td>0</td>\n",
              "      <td>0</td>\n",
              "      <td>1</td>\n",
              "    </tr>\n",
              "  </tbody>\n",
              "</table>\n",
              "</div>"
            ],
            "text/plain": [
              "        age     yredu  capgain  ...  relationship_ Wife  sex_ Female  sex_ Male\n",
              "0  0.301370  0.800000  0.02174  ...                   0            0          1\n",
              "1  0.452055  0.800000  0.00000  ...                   0            0          1\n",
              "2  0.287671  0.533333  0.00000  ...                   0            0          1\n",
              "\n",
              "[3 rows x 57 columns]"
            ]
          },
          "metadata": {
            "tags": []
          },
          "execution_count": 17
        }
      ]
    },
    {
      "cell_type": "markdown",
      "metadata": {
        "id": "HwjDg1uM1pqe",
        "colab_type": "text"
      },
      "source": [
        "### Part (e) One-Hot Encoding [2 pt]\n",
        "\n",
        "The dataframe `data` contains the cleaned and normalized data that we will use to train our denoising autoencoder.\n",
        "\n",
        "How many **columns** (features) are in the dataframe `data`?\n",
        "\n",
        "Briefly explain where that number come from."
      ]
    },
    {
      "cell_type": "code",
      "metadata": {
        "id": "yjZ5N0Tl1pqf",
        "colab_type": "code",
        "colab": {
          "base_uri": "https://localhost:8080/",
          "height": 34
        },
        "outputId": "52df4a3a-3f5b-4311-e260-30ae2c7da7f2"
      },
      "source": [
        "print(len(data.columns))\n",
        "# the get_dummies function transferred strings in data set to values of 0 and 1, \n",
        "# for example, the column of work was transferred to 7 columns of work_ Federal-gov, \n",
        "# work_ Local-gov, etc. The value is 1 where the string value in the original data\n",
        "# set matches the string in the column name, and 0 otherwise."
      ],
      "execution_count": null,
      "outputs": [
        {
          "output_type": "stream",
          "text": [
            "57\n"
          ],
          "name": "stdout"
        }
      ]
    },
    {
      "cell_type": "markdown",
      "metadata": {
        "id": "OEJ0Ci3l1pqh",
        "colab_type": "text"
      },
      "source": [
        "### Part (f) One-Hot Conversion [3 pt]\n",
        "\n",
        "We will convert the pandas data frame `data` into numpy, so that\n",
        "it can be further converted into a PyTorch tensor.\n",
        "However, in doing so, we lose the column label information that\n",
        "a panda data frame automatically stores.\n",
        "\n",
        "Complete the function `get_categorical_value` that will return\n",
        "the named value of a feature given a one-hot embedding.\n",
        "You may find the global variables `cat_index` and `cat_values`\n",
        "useful. (Display them and figure out what they are first.)\n",
        "\n",
        "We will need this function in the next part of the lab\n",
        "to interpret our autoencoder outputs. So, the input\n",
        "to our function `get_categorical_values` might not \n",
        "actually be \"one-hot\" -- the input may instead \n",
        "contain real-valued predictions from our neural network."
      ]
    },
    {
      "cell_type": "code",
      "metadata": {
        "id": "ZmovX6gu1pqi",
        "colab_type": "code",
        "colab": {}
      },
      "source": [
        "datanp = data.values.astype(np.float32)"
      ],
      "execution_count": null,
      "outputs": []
    },
    {
      "cell_type": "code",
      "metadata": {
        "id": "YRIa5MBd1pql",
        "colab_type": "code",
        "colab": {
          "base_uri": "https://localhost:8080/",
          "height": 71
        },
        "outputId": "bc0d49c8-25b4-4d9b-d624-df0c4e2a81b8"
      },
      "source": [
        "cat_index = {}  # Mapping of feature -> start index of feature in a record\n",
        "cat_values = {} # Mapping of feature -> list of categorical values the feature can take\n",
        "\n",
        "# build up the cat_index and cat_values dictionary\n",
        "for i, header in enumerate(data.keys()):\n",
        "    if \"_\" in header: # categorical header\n",
        "        feature, value = header.split()\n",
        "        feature = feature[:-1] # remove the last char; it is always an underscore\n",
        "        if feature not in cat_index:\n",
        "            cat_index[feature] = i\n",
        "            cat_values[feature] = [value]\n",
        "        else:\n",
        "            cat_values[feature].append(value)\n",
        "\n",
        "print(cat_index)\n",
        "print(cat_values)\n",
        "\n",
        "def get_onehot(record, feature):\n",
        "    \"\"\"\n",
        "    Return the portion of `record` that is the one-hot encoding\n",
        "    of `feature`. For example, since the feature \"work\" is stored\n",
        "    in the indices [5:12] in each record, calling `get_range(record, \"work\")`\n",
        "    is equivalent to accessing `record[5:12]`.\n",
        "    \n",
        "    Args:\n",
        "        - record: a numpy array representing one record, formatted\n",
        "                  the same way as a row in `data.np`\n",
        "        - feature: a string, should be an element of `catcols`\n",
        "    \"\"\"\n",
        "    start_index = cat_index[feature]\n",
        "    stop_index = cat_index[feature] + len(cat_values[feature])\n",
        "    return record[start_index:stop_index]\n",
        "\n",
        "def get_categorical_value(onehot, feature):\n",
        "    \"\"\"\n",
        "    Return the categorical value name of a feature given\n",
        "    a one-hot vector representing the feature.\n",
        "    \n",
        "    Args:\n",
        "        - onehot: a numpy array one-hot representation of the feature\n",
        "        - feature: a string, should be an element of `catcols`\n",
        "        \n",
        "    Examples:\n",
        "    \n",
        "    >>> get_categorical_value(np.array([0., 0., 0., 0., 0., 1., 0.]), \"work\")\n",
        "    'State-gov'\n",
        "    >>> get_categorical_value(np.array([0.1, 0., 1.1, 0.2, 0., 1., 0.]), \"work\")\n",
        "    'Private'\n",
        "    \"\"\"\n",
        "    # <----- TODO: WRITE YOUR CODE HERE ----->\n",
        "    # You may find the variables `cat_index` and `cat_values` \n",
        "    # (created above) useful.\n",
        "    #for i in range(0, len(onehot)):\n",
        "      #if onehot[i] >= 1:\n",
        "        #return cat_values[feature][i]\n",
        "    return cat_values[feature][np.argmax(onehot)]\n"
      ],
      "execution_count": null,
      "outputs": [
        {
          "output_type": "stream",
          "text": [
            "{'work': 5, 'marriage': 12, 'occupation': 19, 'edu': 33, 'relationship': 49, 'sex': 55}\n",
            "{'work': ['Federal-gov', 'Local-gov', 'Private', 'Self-emp-inc', 'Self-emp-not-inc', 'State-gov', 'Without-pay'], 'marriage': ['Divorced', 'Married-AF-spouse', 'Married-civ-spouse', 'Married-spouse-absent', 'Never-married', 'Separated', 'Widowed'], 'occupation': ['Adm-clerical', 'Armed-Forces', 'Craft-repair', 'Exec-managerial', 'Farming-fishing', 'Handlers-cleaners', 'Machine-op-inspct', 'Other-service', 'Priv-house-serv', 'Prof-specialty', 'Protective-serv', 'Sales', 'Tech-support', 'Transport-moving'], 'edu': ['10th', '11th', '12th', '1st-4th', '5th-6th', '7th-8th', '9th', 'Assoc-acdm', 'Assoc-voc', 'Bachelors', 'Doctorate', 'HS-grad', 'Masters', 'Preschool', 'Prof-school', 'Some-college'], 'relationship': ['Husband', 'Not-in-family', 'Other-relative', 'Own-child', 'Unmarried', 'Wife'], 'sex': ['Female', 'Male']}\n"
          ],
          "name": "stdout"
        }
      ]
    },
    {
      "cell_type": "code",
      "metadata": {
        "id": "T_XXxZdh1pqv",
        "colab_type": "code",
        "colab": {}
      },
      "source": [
        "# more useful code, used during training, that depends on the function\n",
        "# you write above\n",
        "\n",
        "def get_feature(record, feature):\n",
        "    \"\"\"\n",
        "    Return the categorical feature value of a record\n",
        "    \"\"\"\n",
        "    onehot = get_onehot(record, feature)\n",
        "    return get_categorical_value(onehot, feature)\n",
        "\n",
        "def get_features(record):\n",
        "    \"\"\"\n",
        "    Return a dictionary of all categorical feature values of a record\n",
        "    \"\"\"\n",
        "    return { f: get_feature(record, f) for f in catcols }"
      ],
      "execution_count": null,
      "outputs": []
    },
    {
      "cell_type": "markdown",
      "metadata": {
        "id": "1_5ZZR_J1pqy",
        "colab_type": "text"
      },
      "source": [
        "### Part (g) Train/Test Split [3 pt]\n",
        "\n",
        "Randomly split the data into approximately 70% training, 15% validation and 15% test.\n",
        "\n",
        "Report the number of items in your training, validation, and test set."
      ]
    },
    {
      "cell_type": "code",
      "metadata": {
        "id": "TE_fTJJf1pqz",
        "colab_type": "code",
        "colab": {
          "base_uri": "https://localhost:8080/",
          "height": 68
        },
        "outputId": "f34cd84c-43d2-4855-a098-7331e23ac095"
      },
      "source": [
        "# set the numpy seed for reproducibility\n",
        "# https://docs.scipy.org/doc/numpy/reference/generated/numpy.random.seed.html\n",
        "np.random.seed(50)\n",
        "\n",
        "# todo\n",
        "indices = np.arange(len(data))\n",
        "np.random.shuffle(indices)\n",
        "split1 = int(len(indices) * 0.7)\n",
        "split2 = int(len(indices) * 0.85)\n",
        "train_indices, val_indices, test_indices = indices[:split1], indices[split1:split2], indices[split2:]\n",
        "train_data = datanp[train_indices]\n",
        "valid_data = datanp[val_indices]\n",
        "test_data = datanp[test_indices]\n",
        "\n",
        "print(\"length of training data:\", len(train_data))\n",
        "print(\"length of validation data:\", len(valid_data))\n",
        "print(\"length of test data:\", len(test_data))"
      ],
      "execution_count": null,
      "outputs": [
        {
          "output_type": "stream",
          "text": [
            "length of training data: 21502\n",
            "length of validation data: 4608\n",
            "length of test data: 4608\n"
          ],
          "name": "stdout"
        }
      ]
    },
    {
      "cell_type": "markdown",
      "metadata": {
        "id": "h9wJAKOI1pq3",
        "colab_type": "text"
      },
      "source": [
        "## Part 2. Model Setup [5 pt]\n",
        "\n",
        "### Part (a) [4 pt]\n",
        "\n",
        "Design a fully-connected autoencoder by modifying the `encoder` and `decoder`\n",
        "below.\n",
        "\n",
        "The input to this autoencoder will be the features of the `data`, with\n",
        "one categorical feature recorded as \"missing\". The output of the autoencoder\n",
        "should be the reconstruction of the same features, but with the missing\n",
        "value filled in.\n",
        "\n",
        "**Note**: Do not reduce the dimensionality of the input too much!\n",
        "The output of your embedding is expected to contain information \n",
        "about ~11 features."
      ]
    },
    {
      "cell_type": "code",
      "metadata": {
        "id": "f3F--tdn1pq3",
        "colab_type": "code",
        "colab": {}
      },
      "source": [
        "from torch import nn\n",
        "\n",
        "class AutoEncoder(nn.Module):\n",
        "    def __init__(self):\n",
        "        self.name = \"AutoEncoder\"\n",
        "        super(AutoEncoder, self).__init__()\n",
        "        self.encoder = nn.Sequential(\n",
        "            nn.Linear(57, 57), # TODO -- FILL OUT THE CODE HERE!\n",
        "            nn.ReLU(),\n",
        "            nn.Linear(57, 40),\n",
        "            nn.ReLU(),\n",
        "            nn.Linear(40, 20)\n",
        "        )\n",
        "        self.decoder = nn.Sequential(\n",
        "            nn.Linear(20, 40),\n",
        "            nn.ReLU(),\n",
        "            nn.Linear(40, 57),\n",
        "            nn.ReLU(),\n",
        "            nn.Linear(57, 57), # TODO -- FILL OUT THE CODE HERE!\n",
        "            nn.Sigmoid() # get to the range (0, 1)\n",
        "        )\n",
        "\n",
        "    def forward(self, x):\n",
        "        x = self.encoder(x)\n",
        "        x = self.decoder(x)\n",
        "        return x"
      ],
      "execution_count": null,
      "outputs": []
    },
    {
      "cell_type": "markdown",
      "metadata": {
        "id": "kuEzTSAv1pq6",
        "colab_type": "text"
      },
      "source": [
        "### Part (b) [1 pt]\n",
        "\n",
        "Explain why there is a sigmoid activation in the last step of the decoder.\n",
        "\n",
        "(**Note**: the values inside the data frame `data` and the training code in Part 3 might be helpful.)"
      ]
    },
    {
      "cell_type": "code",
      "metadata": {
        "id": "HFLd0S4H1pq6",
        "colab_type": "code",
        "colab": {}
      },
      "source": [
        "# sigmoid forces the output to be a vector and each element to be between 0 and 1.\n",
        "# Since in 'data', we used normalized features and used get_dummies function, \n",
        "# the values in 'data' are all between 0 and 1, we want the output of the autoencoder\n",
        "# to match the 'data'. And the max in softmax output would be our prediction value."
      ],
      "execution_count": null,
      "outputs": []
    },
    {
      "cell_type": "markdown",
      "metadata": {
        "id": "jYwqFWVl1pq8",
        "colab_type": "text"
      },
      "source": [
        "## Part 3. Training [18] \n",
        "\n",
        "### Part (a) [6 pt]\n",
        "\n",
        "We will train our autoencoder in the following way:\n",
        "\n",
        "- In each iteration, we will hide one of the categorical features using the `zero_out_random_features` function\n",
        "- We will pass the data with one missing feature through the autoencoder, and obtain a reconstruction\n",
        "- We will check how close the reconstruction is compared to the original data -- including the value of the missing feature\n",
        "\n",
        "Complete the code to train the autoencoder, and plot the training and validation loss every few iterations.\n",
        "You may also want to plot training and validation \"accuracy\" every few iterations, as we will define in\n",
        "part (b). You may also want to checkpoint your model every few iterations or epochs.\n",
        "\n",
        "Use `nn.MSELoss()` as your loss function. (Side note: you might recognize that this loss function is not\n",
        "ideal for this problem, but we will use it anyway.)"
      ]
    },
    {
      "cell_type": "code",
      "metadata": {
        "id": "IDQA_-dS1pq9",
        "colab_type": "code",
        "colab": {}
      },
      "source": [
        "def zero_out_feature(records, feature):\n",
        "    \"\"\" Set the feature missing in records, by setting the appropriate\n",
        "    columns of records to 0\n",
        "    \"\"\"\n",
        "    start_index = cat_index[feature]\n",
        "    stop_index = cat_index[feature] + len(cat_values[feature])\n",
        "    records[:, start_index:stop_index] = 0\n",
        "    return records\n",
        "\n",
        "def zero_out_random_feature(records):\n",
        "    \"\"\" Set one random feature missing in records, by setting the \n",
        "    appropriate columns of records to 0\n",
        "    \"\"\"\n",
        "    return zero_out_feature(records, random.choice(catcols))\n",
        "\n",
        "def train(model, train_data, valid_data, batch_size=64, num_epochs=5, learning_rate=1e-4):\n",
        "    \"\"\" Training loop. You should update this.\"\"\"\n",
        "    torch.manual_seed(42)\n",
        "    train_loader = torch.utils.data.DataLoader(train_data, batch_size=batch_size, shuffle=True)\n",
        "    valid_loader = torch.utils.data.DataLoader(valid_data, batch_size=batch_size, shuffle=True)\n",
        "    criterion = nn.MSELoss()\n",
        "    optimizer = torch.optim.Adam(model.parameters(), lr=learning_rate)\n",
        "    iters, train_losses, valid_losses, train_acc, val_acc = [], [], [], [], []\n",
        "\n",
        "    for epoch in range(num_epochs):\n",
        "        for data in train_loader:\n",
        "            datam = zero_out_random_feature(data.clone()) # zero out one categorical feature\n",
        "            recon = model(datam)\n",
        "            train_loss = criterion(recon, data)\n",
        "            train_loss.backward()\n",
        "            optimizer.step()\n",
        "            optimizer.zero_grad()\n",
        "\n",
        "        for data in valid_loader:\n",
        "            datam = zero_out_random_feature(data.clone()) # zero out one categorical feature\n",
        "            recon = model(datam)\n",
        "            valid_loss = criterion(recon, data)\n",
        "\n",
        "        iters.append(epoch)\n",
        "        train_losses.append(float(train_loss)/batch_size)         # compute *average* loss\n",
        "        train_acc.append(get_accuracy(model, train_loader)) # compute training accuracy\n",
        "        print(\"epoch number\", epoch+1, \"accuracy: \",train_acc[epoch])\n",
        "        valid_losses.append(float(valid_loss)/batch_size)\n",
        "        val_acc.append(get_accuracy(model, valid_loader))  # compute validation accuracy\n",
        "        model_path = \"model_{0}_bs{1}_lr{2}_epoch{3}\".format(model.name, batch_size, learning_rate, epoch)\n",
        "        torch.save(model.state_dict(), model_path)\n",
        "\n",
        "    # plotting\n",
        "    plt.title(\"Training Curve\")\n",
        "    plt.plot(iters, train_losses, label=\"Train\")\n",
        "    plt.plot(iters, valid_losses, label=\"Validation\")\n",
        "    plt.xlabel(\"Iterations\")\n",
        "    plt.ylabel(\"Loss\")\n",
        "    plt.show()\n",
        "\n",
        "    plt.title(\"Training Curve\")\n",
        "    plt.plot(iters, train_acc, label=\"Train\")\n",
        "    plt.plot(iters, val_acc, label=\"Validation\")\n",
        "    plt.xlabel(\"Iterations\")\n",
        "    plt.ylabel(\"Training Accuracy\")\n",
        "    plt.legend(loc='best')\n",
        "    plt.show()\n",
        "\n",
        "    print(\"Final Training Accuracy: {}\".format(train_acc[-1]))\n",
        "    print(\"Final Validation Accuracy: {}\".format(val_acc[-1]))"
      ],
      "execution_count": null,
      "outputs": []
    },
    {
      "cell_type": "markdown",
      "metadata": {
        "id": "WKk01pwx1pq_",
        "colab_type": "text"
      },
      "source": [
        "### Part (b) [3 pt]\n",
        "\n",
        "While plotting training and validation loss is valuable, loss values are harder to compare\n",
        "than accuracy percentages. It would be nice to have a measure of \"accuracy\" in this problem.\n",
        "\n",
        "Since we will only be imputing missing categorical values, we will define an accuracy measure.\n",
        "For each record and for each categorical feature, we determine whether\n",
        "the model can predict the categorical feature given all the other features of the record.\n",
        "\n",
        "A function `get_accuracy` is written for you. It is up to you to figure out how to\n",
        "use the function. **You don't need to submit anything in this part.**\n",
        "To earn the marks, correctly plot the training and validation accuracy every few \n",
        "iterations as part of your training curve."
      ]
    },
    {
      "cell_type": "code",
      "metadata": {
        "id": "bHWLfCzM1pq_",
        "colab_type": "code",
        "colab": {}
      },
      "source": [
        "def get_accuracy(model, data_loader):\n",
        "    \"\"\"Return the \"accuracy\" of the autoencoder model across a data set.\n",
        "    That is, for each record and for each categorical feature, \n",
        "    we determine whether the model can successfully predict the value\n",
        "    of the categorical feature given all the other features of the \n",
        "    record. The returned \"accuracy\" measure is the percentage of times \n",
        "    that our model is successful.\n",
        "        \n",
        "    Args:\n",
        "       - model: the autoencoder model, an instance of nn.Module\n",
        "       - data_loader: an instance of torch.utils.data.DataLoader\n",
        "\n",
        "    Example (to illustrate how get_accuracy is intended to be called.\n",
        "             Depending on your variable naming this code might require\n",
        "             modification.)\n",
        "\n",
        "        >>> model = AutoEncoder()\n",
        "        >>> vdl = torch.utils.data.DataLoader(data_valid, batch_size=256, shuffle=True)\n",
        "        >>> get_accuracy(model, vdl)\n",
        "    \"\"\"\n",
        "    total = 0\n",
        "    acc = 0\n",
        "    for col in catcols:\n",
        "        for item in data_loader: # minibatches\n",
        "            inp = item.detach().numpy()\n",
        "            out = model(zero_out_feature(item.clone(), col)).detach().numpy()\n",
        "            for i in range(out.shape[0]): # record in minibatch\n",
        "                acc += int(get_feature(out[i], col) == get_feature(inp[i], col))\n",
        "                total += 1\n",
        "        #print(acc, total)\n",
        "    return acc / total"
      ],
      "execution_count": null,
      "outputs": []
    },
    {
      "cell_type": "markdown",
      "metadata": {
        "id": "SxCTlXoV1prB",
        "colab_type": "text"
      },
      "source": [
        "### Part (c) [4 pt]\n",
        "\n",
        "Run your updated training code, using reasonable initial hyperparameters.\n",
        "\n",
        "Include your training curve in your submission."
      ]
    },
    {
      "cell_type": "code",
      "metadata": {
        "id": "nj5b71l-1prC",
        "colab_type": "code",
        "colab": {
          "base_uri": "https://localhost:8080/",
          "height": 777
        },
        "outputId": "58f1c00e-5ff9-4f10-e9ad-cd3e3f632ce2"
      },
      "source": [
        "model = AutoEncoder()\n",
        "train(model, train_data, valid_data, 16, 10, learning_rate=0.0008)"
      ],
      "execution_count": null,
      "outputs": [
        {
          "output_type": "stream",
          "text": [
            "epoch number 1 accuracy:  0.5882631073078474\n",
            "epoch number 2 accuracy:  0.6098657489225808\n",
            "epoch number 3 accuracy:  0.6033237218243264\n",
            "epoch number 4 accuracy:  0.6127104455399498\n",
            "epoch number 5 accuracy:  0.6112144606703253\n",
            "epoch number 6 accuracy:  0.6129352308312405\n",
            "epoch number 7 accuracy:  0.6062691842619291\n",
            "epoch number 8 accuracy:  0.6208027160264161\n",
            "epoch number 9 accuracy:  0.6203221405760705\n",
            "epoch number 10 accuracy:  0.6278950795274858\n"
          ],
          "name": "stdout"
        },
        {
          "output_type": "display_data",
          "data": {
            "image/png": "[encoded data removed]",
            "text/plain": [
              "<Figure size 432x288 with 1 Axes>"
            ]
          },
          "metadata": {
            "tags": []
          }
        },
        {
          "output_type": "display_data",
          "data": {
            "image/png": "[encoded data removed]",
            "text/plain": [
              "<Figure size 432x288 with 1 Axes>"
            ]
          },
          "metadata": {
            "tags": []
          }
        },
        {
          "output_type": "stream",
          "text": [
            "Final Training Accuracy: 0.6278950795274858\n",
            "Final Validation Accuracy: 0.6243489583333334\n"
          ],
          "name": "stdout"
        }
      ]
    },
    {
      "cell_type": "markdown",
      "metadata": {
        "id": "h9xTwIf51prF",
        "colab_type": "text"
      },
      "source": [
        "### Part (d) [5 pt]\n",
        "\n",
        "Tune your hyperparameters, training at least 4 different models (4 sets of hyperparameters).\n",
        "\n",
        "Do not include all your training curves. Instead, explain what hyperparameters\n",
        "you tried, what their effect was, and what your thought process was as you \n",
        "chose the next set of hyperparameters to try."
      ]
    },
    {
      "cell_type": "code",
      "metadata": {
        "id": "3FW3pFRnYstv",
        "colab_type": "code",
        "colab": {}
      },
      "source": [
        "def train_without_plots(model, train_data, valid_data, batch_size=64, num_epochs=5, learning_rate=1e-4):\n",
        "    \"\"\" Training loop. You should update this.\"\"\"\n",
        "    torch.manual_seed(42)\n",
        "    train_loader = torch.utils.data.DataLoader(train_data, batch_size=batch_size, shuffle=True)\n",
        "    valid_loader = torch.utils.data.DataLoader(valid_data, batch_size=batch_size, shuffle=True)\n",
        "    criterion = nn.MSELoss()\n",
        "    optimizer = torch.optim.Adam(model.parameters(), lr=learning_rate)\n",
        "    iters, losses, train_acc, val_acc = [], [], [], []\n",
        "\n",
        "    for epoch in range(num_epochs):\n",
        "        for data in train_loader:\n",
        "            datam = zero_out_random_feature(data.clone()) # zero out one categorical feature\n",
        "            recon = model(datam)\n",
        "            loss = criterion(recon, data)\n",
        "            loss.backward()\n",
        "            optimizer.step()\n",
        "            optimizer.zero_grad()\n",
        "\n",
        "        iters.append(epoch)\n",
        "        losses.append(float(loss)/batch_size)             # compute *average* loss\n",
        "        train_acc.append(get_accuracy(model, train_loader)) # compute training accuracy\n",
        "        print(\"epoch number\", epoch+1, \"accuracy: \",train_acc[epoch]) \n",
        "        val_acc.append(get_accuracy(model, valid_loader))  # compute validation accuracy\n",
        "        model_path = \"model_{0}_bs{1}_lr{2}_epoch{3}\".format(model.name, batch_size, learning_rate, epoch)\n",
        "        torch.save(model.state_dict(), model_path)\n",
        "\n",
        "    print(\"Final Training Accuracy: {}\".format(train_acc[-1]))\n",
        "    print(\"Final Validation Accuracy: {}\".format(val_acc[-1]))"
      ],
      "execution_count": null,
      "outputs": []
    },
    {
      "cell_type": "code",
      "metadata": {
        "id": "PhTKt9iL1prG",
        "colab_type": "code",
        "colab": {
          "base_uri": "https://localhost:8080/",
          "height": 221
        },
        "outputId": "be2bdebd-b740-44b3-f211-e1bfce154c20"
      },
      "source": [
        "# hyperparameter set: batch_size = 16, num_epochs = 10, learning_rate = 0.001\n",
        "# because in part c, I used a batch size of 16 and a learning rate of 0.001, \n",
        "# I increased the learning rate a little bit to speed up the learning.\n",
        "model = AutoEncoder()\n",
        "train_without_plots(model, train_data, valid_data, 16, 10, learning_rate=0.001)"
      ],
      "execution_count": null,
      "outputs": [
        {
          "output_type": "stream",
          "text": [
            "epoch number 1 accuracy:  0.591712398846619\n",
            "epoch number 2 accuracy:  0.6200973552847797\n",
            "epoch number 3 accuracy:  0.6186168728490373\n",
            "epoch number 4 accuracy:  0.6163457662853068\n",
            "epoch number 5 accuracy:  0.614167674324869\n",
            "epoch number 6 accuracy:  0.6175162000434068\n",
            "epoch number 7 accuracy:  0.6275927820667845\n",
            "epoch number 8 accuracy:  0.6322822683161257\n",
            "epoch number 9 accuracy:  0.6352199795367873\n",
            "epoch number 10 accuracy:  0.6302359470436859\n",
            "Final Training Accuracy: 0.6302359470436859\n",
            "Final Validation Accuracy: 0.6284360532407407\n"
          ],
          "name": "stdout"
        }
      ]
    },
    {
      "cell_type": "code",
      "metadata": {
        "id": "MCU91nIqz5mu",
        "colab_type": "code",
        "colab": {
          "base_uri": "https://localhost:8080/",
          "height": 391
        },
        "outputId": "637967ed-0ace-42f4-dc69-18824a44845e"
      },
      "source": [
        "# hyperparameter set: batch_size = 64, num_epochs = 20, learning_rate = 0.002\n",
        "# because 16 is a relatively small batch size, and when I increase batch size, \n",
        "# the learning rate should also be increased.\n",
        "model = AutoEncoder()\n",
        "train_without_plots(model, train_data, valid_data, 64, 20, learning_rate=0.002)"
      ],
      "execution_count": null,
      "outputs": [
        {
          "output_type": "stream",
          "text": [
            "epoch number 1 accuracy:  0.5713654543763371\n",
            "epoch number 2 accuracy:  0.6098657489225808\n",
            "epoch number 3 accuracy:  0.6167875856509472\n",
            "epoch number 4 accuracy:  0.6225079837534493\n",
            "epoch number 5 accuracy:  0.6066024865903947\n",
            "epoch number 6 accuracy:  0.6239574613214275\n",
            "epoch number 7 accuracy:  0.6218491303134592\n",
            "epoch number 8 accuracy:  0.6252364121167023\n",
            "epoch number 9 accuracy:  0.6191129507332651\n",
            "epoch number 10 accuracy:  0.6162294980311909\n",
            "epoch number 11 accuracy:  0.6223762130654513\n",
            "epoch number 12 accuracy:  0.6221824326419247\n",
            "epoch number 13 accuracy:  0.6342433262022138\n",
            "epoch number 14 accuracy:  0.6239729637553095\n",
            "epoch number 15 accuracy:  0.6261278020649242\n",
            "epoch number 16 accuracy:  0.6286469475707687\n",
            "epoch number 17 accuracy:  0.6406690850463522\n",
            "epoch number 18 accuracy:  0.6341813164666853\n",
            "epoch number 19 accuracy:  0.6428704306576133\n",
            "epoch number 20 accuracy:  0.6406923386971755\n",
            "Final Training Accuracy: 0.6406923386971755\n",
            "Final Validation Accuracy: 0.6358868634259259\n"
          ],
          "name": "stdout"
        }
      ]
    },
    {
      "cell_type": "code",
      "metadata": {
        "id": "O0g8SoG5yeaP",
        "colab_type": "code",
        "colab": {
          "base_uri": "https://localhost:8080/",
          "height": 391
        },
        "outputId": "634b6e27-9cea-41f3-9c6c-b98711b252cd"
      },
      "source": [
        "# hyperparameter set: batch_size = 32, num_epochs = 20, learning_rate = 0.0015\n",
        "# because 16 is a relatively small batch size, and when I increase batch size, \n",
        "# the learning rate should also be increased.\n",
        "model = AutoEncoder()\n",
        "train_without_plots(model, train_data, valid_data, 32, 20, learning_rate=0.0015)"
      ],
      "execution_count": null,
      "outputs": [
        {
          "output_type": "stream",
          "text": [
            "epoch number 1 accuracy:  0.5917511549313242\n",
            "epoch number 2 accuracy:  0.6115322605649087\n",
            "epoch number 3 accuracy:  0.5984792112361641\n",
            "epoch number 4 accuracy:  0.6242210026974235\n",
            "epoch number 5 accuracy:  0.6251278950795275\n",
            "epoch number 6 accuracy:  0.6218026230118129\n",
            "epoch number 7 accuracy:  0.6290422596347627\n",
            "epoch number 8 accuracy:  0.6266548848169162\n",
            "epoch number 9 accuracy:  0.622081666821691\n",
            "epoch number 10 accuracy:  0.6286391963538276\n",
            "epoch number 11 accuracy:  0.6243605246023626\n",
            "epoch number 12 accuracy:  0.6285539329674759\n",
            "epoch number 13 accuracy:  0.6360028524478343\n",
            "epoch number 14 accuracy:  0.6371112764704059\n",
            "epoch number 15 accuracy:  0.6406458313955291\n",
            "epoch number 16 accuracy:  0.6348944284252628\n",
            "epoch number 17 accuracy:  0.6384134809165039\n",
            "epoch number 18 accuracy:  0.639204105044492\n",
            "epoch number 19 accuracy:  0.6470405853719033\n",
            "epoch number 20 accuracy:  0.6436920596533656\n",
            "Final Training Accuracy: 0.6436920596533656\n",
            "Final Validation Accuracy: 0.6379123263888888\n"
          ],
          "name": "stdout"
        }
      ]
    },
    {
      "cell_type": "code",
      "metadata": {
        "id": "oQKwzSfLyIYz",
        "colab_type": "code",
        "colab": {
          "base_uri": "https://localhost:8080/",
          "height": 561
        },
        "outputId": "98b5b0b4-3de1-4be6-e7f7-c46d16b740de"
      },
      "source": [
        "# hyperparameter set: batch_size = 32, num_epochs = 30, learning_rate = 0.0015\n",
        "# Iterate for 10 more epochs to do more adjustions to the model parameters\n",
        "model = AutoEncoder()\n",
        "train_without_plots(model, train_data, valid_data, 32, 30, learning_rate=0.0015)"
      ],
      "execution_count": null,
      "outputs": [
        {
          "output_type": "stream",
          "text": [
            "epoch number 1 accuracy:  0.5930998666790687\n",
            "epoch number 2 accuracy:  0.6036415217189098\n",
            "epoch number 3 accuracy:  0.6112919728397358\n",
            "epoch number 4 accuracy:  0.5952469537717422\n",
            "epoch number 5 accuracy:  0.605470808917\n",
            "epoch number 6 accuracy:  0.611950826279726\n",
            "epoch number 7 accuracy:  0.616105478560134\n",
            "epoch number 8 accuracy:  0.6183688339069234\n",
            "epoch number 9 accuracy:  0.6220274083031035\n",
            "epoch number 10 accuracy:  0.6176014634297585\n",
            "epoch number 11 accuracy:  0.6265386165628004\n",
            "epoch number 12 accuracy:  0.6247945927510619\n",
            "epoch number 13 accuracy:  0.6209267354974731\n",
            "epoch number 14 accuracy:  0.6286624500046507\n",
            "epoch number 15 accuracy:  0.6215080767680525\n",
            "epoch number 16 accuracy:  0.6274222552940811\n",
            "epoch number 17 accuracy:  0.6265618702136235\n",
            "epoch number 18 accuracy:  0.6285384305335938\n",
            "epoch number 19 accuracy:  0.6290732645025269\n",
            "epoch number 20 accuracy:  0.6243992806870678\n",
            "epoch number 21 accuracy:  0.630910302917558\n",
            "epoch number 22 accuracy:  0.6307475273617958\n",
            "epoch number 23 accuracy:  0.6329023656714104\n",
            "epoch number 24 accuracy:  0.6297941276780454\n",
            "epoch number 25 accuracy:  0.6326155706445912\n",
            "epoch number 26 accuracy:  0.6338325117043376\n",
            "epoch number 27 accuracy:  0.6321117415434223\n",
            "epoch number 28 accuracy:  0.6325380584751806\n",
            "epoch number 29 accuracy:  0.6401885095960066\n",
            "epoch number 30 accuracy:  0.634134809165039\n",
            "Final Training Accuracy: 0.634134809165039\n",
            "Final Validation Accuracy: 0.6313295717592593\n"
          ],
          "name": "stdout"
        }
      ]
    },
    {
      "cell_type": "markdown",
      "metadata": {
        "id": "ymCsZH291prI",
        "colab_type": "text"
      },
      "source": [
        "## Part 4. Testing [12 pt]\n",
        "\n",
        "### Part (a) [2 pt]\n",
        "\n",
        "Compute and report the test accuracy."
      ]
    },
    {
      "cell_type": "code",
      "metadata": {
        "id": "0OkSbup91prJ",
        "colab_type": "code",
        "colab": {
          "base_uri": "https://localhost:8080/",
          "height": 34
        },
        "outputId": "eb1dca8f-3525-4583-8305-16f3b4e81813"
      },
      "source": [
        "best_model = AutoEncoder()\n",
        "best_model_path = \"model_{0}_bs{1}_lr{2}_epoch{3}\".format(\"AutoEncoder\", 32, 0.0015, 29)\n",
        "state = torch.load(best_model_path)\n",
        "best_model.load_state_dict(state)\n",
        "test_dataloader = torch.utils.data.DataLoader(test_data, batch_size=16, shuffle=True)\n",
        "test_accuracy = get_accuracy(best_model, test_dataloader)\n",
        "print(\"test accuracy:\", test_accuracy)"
      ],
      "execution_count": null,
      "outputs": [
        {
          "output_type": "stream",
          "text": [
            "test accuracy: 0.6572989004629629\n"
          ],
          "name": "stdout"
        }
      ]
    },
    {
      "cell_type": "markdown",
      "metadata": {
        "id": "UEe9yt6L1prM",
        "colab_type": "text"
      },
      "source": [
        "### Part (b) [4 pt]\n",
        "\n",
        "Based on the test accuracy alone, it is difficult to assess whether our model\n",
        "is actually performing well. We don't know whether a high accuracy is due to\n",
        "the simplicity of the problem, or if a poor accuracy is a result of the inherent\n",
        "difficulty of the problem.\n",
        "\n",
        "It is therefore very important to be able to compare our model to at least one\n",
        "alternative. In particular, we consider a simple **baseline**\n",
        "model that is not very computationally expensive. Our neural network\n",
        "should at least outperform this baseline model. If our network is not much\n",
        "better than the baseline, then it is not doing well.\n",
        "\n",
        "For our data imputation problem, consider the following baseline model:\n",
        "to predict a missing feature, the baseline model will look at the **most common value** of the feature in the training set. \n",
        "\n",
        "For example, if the feature \"marriage\" is missing, then this model's prediction will be the most common value for \"marriage\" in the training set, which happens to be \"Married-civ-spouse\".\n",
        "\n",
        "What would be the test accuracy of this baseline model?\n"
      ]
    },
    {
      "cell_type": "code",
      "metadata": {
        "id": "XbL6iiko6H1G",
        "colab_type": "code",
        "colab": {
          "base_uri": "https://localhost:8080/",
          "height": 34
        },
        "outputId": "292d723d-5a03-4e4a-a3a1-bbe994fc420e"
      },
      "source": [
        "most_common = {}\n",
        "for col in df_not_missing.columns:\n",
        "  # get the most common value for each column\n",
        "  most_common[col] = df_not_missing[col].value_counts().idxmax()\n",
        "\n",
        "accuracy = sum(df_not_missing['marriage'] == most_common['marriage'])/len(df_not_missing)\n",
        "print(\"The accuracy for baseline model of missing 'marriage' test is:\", accuracy)"
      ],
      "execution_count": null,
      "outputs": [
        {
          "output_type": "stream",
          "text": [
            "The accuracy for baseline model of missing 'marriage' test is: 0.4667947131974738\n"
          ],
          "name": "stdout"
        }
      ]
    },
    {
      "cell_type": "markdown",
      "metadata": {
        "id": "QlHu0wxh1prP",
        "colab_type": "text"
      },
      "source": [
        "### Part (c) [1 pt]\n",
        "\n",
        "How does your test accuracy from part (a) compared to your basline test accuracy in part (b)?"
      ]
    },
    {
      "cell_type": "code",
      "metadata": {
        "id": "1KQdwE_n1prQ",
        "colab_type": "code",
        "colab": {}
      },
      "source": [
        "# my result in part a is much better than the result in part b, because when we \n",
        "# are applying a learning algorithm, we are making predictions based on the embedding \n",
        "# features about all the information constructed by our autoencoders, and it \n",
        "# should be better than simply using the most common value."
      ],
      "execution_count": null,
      "outputs": []
    },
    {
      "cell_type": "markdown",
      "metadata": {
        "id": "DfQPgu1Q1prS",
        "colab_type": "text"
      },
      "source": [
        "### Part (d) [1 pt]\n",
        "\n",
        "Look at the first item in your test data. \n",
        "Do you think it is reasonable for a human\n",
        "to be able to guess this person's education level\n",
        "based on their other features? Explain."
      ]
    },
    {
      "cell_type": "code",
      "metadata": {
        "id": "3qbQ1vvT1prT",
        "colab_type": "code",
        "colab": {
          "base_uri": "https://localhost:8080/",
          "height": 119
        },
        "outputId": "bde1dcf3-1671-43fc-fc24-b7b52a5929ff"
      },
      "source": [
        "get_features(test_data[0])\n",
        "\n",
        "# yes it is reasonable, because the occupation and work of a person can reveal\n",
        "# a person's education background. For example, the person has an occupation as \n",
        "# Prof-specialty, he or she is highly possible to have at least college education."
      ],
      "execution_count": null,
      "outputs": [
        {
          "output_type": "execute_result",
          "data": {
            "text/plain": [
              "{'edu': 'Bachelors',\n",
              " 'marriage': 'Divorced',\n",
              " 'occupation': 'Prof-specialty',\n",
              " 'relationship': 'Not-in-family',\n",
              " 'sex': 'Male',\n",
              " 'work': 'Private'}"
            ]
          },
          "metadata": {
            "tags": []
          },
          "execution_count": 33
        }
      ]
    },
    {
      "cell_type": "markdown",
      "metadata": {
        "id": "p_d5uuAY1prZ",
        "colab_type": "text"
      },
      "source": [
        "### Part (e) [2 pt]\n",
        "\n",
        "What is your model's prediction of this person's education\n",
        "level, given their other features?\n"
      ]
    },
    {
      "cell_type": "code",
      "metadata": {
        "id": "kBY5gKXR1pra",
        "colab_type": "code",
        "colab": {
          "base_uri": "https://localhost:8080/",
          "height": 34
        },
        "outputId": "a94a74d9-45e7-4421-cf3f-46d59be7d357"
      },
      "source": [
        "single_test_data = test_data[0]\n",
        "edu_start_index = cat_index['edu']\n",
        "edu_stop_index = cat_index['edu'] + len(cat_values['edu'])\n",
        "single_test_data[edu_start_index: edu_stop_index] = 0\n",
        "single_test_data = torch.from_numpy(single_test_data)\n",
        "best_model = AutoEncoder()\n",
        "best_model_path = \"model_{0}_bs{1}_lr{2}_epoch{3}\".format(\"AutoEncoder\", 32, 0.0015, 29)\n",
        "state = torch.load(best_model_path)\n",
        "best_model.load_state_dict(state)\n",
        "prediction = best_model(single_test_data)\n",
        "prediction = prediction.detach().cpu().numpy()\n",
        "pred_edu = get_feature(prediction, \"edu\")\n",
        "print(pred_edu)\n",
        "\n",
        "# the output of my model is Prof-school, it is not correct but it makes sense \n",
        "# since the person has an occupation as a prof-speciality."
      ],
      "execution_count": null,
      "outputs": [
        {
          "output_type": "stream",
          "text": [
            "Prof-school\n"
          ],
          "name": "stdout"
        }
      ]
    },
    {
      "cell_type": "markdown",
      "metadata": {
        "id": "fdLNA0ce1prd",
        "colab_type": "text"
      },
      "source": [
        "### Part (f) [2 pt]\n",
        "\n",
        "What is the baseline model's prediction\n",
        "of this person's education level?"
      ]
    },
    {
      "cell_type": "code",
      "metadata": {
        "id": "TXgoM9qk1prd",
        "colab_type": "code",
        "colab": {
          "base_uri": "https://localhost:8080/",
          "height": 34
        },
        "outputId": "a8571eb9-9854-4b88-8fbc-902932d9a757"
      },
      "source": [
        "print(most_common['edu'])\n",
        "\n",
        "# the caseline model predict it to be HS-grad"
      ],
      "execution_count": null,
      "outputs": [
        {
          "output_type": "stream",
          "text": [
            " HS-grad\n"
          ],
          "name": "stdout"
        }
      ]
    }
  ]
}